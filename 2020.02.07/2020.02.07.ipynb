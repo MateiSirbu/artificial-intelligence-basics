{
 "cells": [
  {
   "cell_type": "markdown",
   "metadata": {},
   "source": [
    "# Exercitii: elemente de Python (Laborator 1)\n",
    "1. (fizz-buzz test) Sa se scrie numerele de la 1 la n; pentru fiecare multiplu de 2 se va scrie in locul numarului 'Fizz', pentru multiplu al lui 5 se va scrie 'Buzz'; daca numarul este multiplu de 10 se va scrie in locul lui 'FizzBuzz'."
   ]
  },
  {
   "cell_type": "code",
   "execution_count": 39,
   "metadata": {},
   "outputs": [],
   "source": [
    "def fizz_buzz(n):\n",
    "    for i in range(1, n+1):\n",
    "        if i % 10 == 0:\n",
    "            print('Fizz Buzz')\n",
    "        elif i % 2 == 0:\n",
    "            print('Fizz')\n",
    "        elif i % 5 == 0:\n",
    "            print('Buzz')\n",
    "        else:\n",
    "            print(i)"
   ]
  },
  {
   "cell_type": "code",
   "execution_count": 40,
   "metadata": {},
   "outputs": [
    {
     "name": "stdout",
     "output_type": "stream",
     "text": [
      "1\n",
      "Fizz\n",
      "3\n",
      "Fizz\n",
      "Buzz\n",
      "Fizz\n",
      "7\n",
      "Fizz\n",
      "9\n",
      "Fizz Buzz\n",
      "11\n",
      "Fizz\n",
      "13\n",
      "Fizz\n",
      "Buzz\n",
      "Fizz\n",
      "17\n",
      "Fizz\n",
      "19\n",
      "Fizz Buzz\n"
     ]
    }
   ],
   "source": [
    "fizz_buzz(20)"
   ]
  },
  {
   "cell_type": "markdown",
   "metadata": {},
   "source": [
    "2. Sa se calculeze scorul Scrabble al unui cuvant. Fiecare litera are asignata o anumita valoare (e.g. 'a' -> 3, 'f' ->7, 'z' -> 23; setati valori intr-un dictionar), iar scorul cuvantului se calculeaza ca suma scorurilor literelor componente. Literele mari si mici au aceeasi valoare."
   ]
  },
  {
   "cell_type": "code",
   "execution_count": 42,
   "metadata": {},
   "outputs": [
    {
     "name": "stdin",
     "output_type": "stream",
     "text": [
      "Your word:  pneumonoultramicroscopicsilicovolcanoconiosis\n"
     ]
    },
    {
     "name": "stdout",
     "output_type": "stream",
     "text": [
      "Scrabble score of 'pneumonoultramicroscopicsilicovolcanoconiosis' is 68\n"
     ]
    }
   ],
   "source": [
    "    scores = {\n",
    "        'a': 1,\n",
    "        'b': 3,\n",
    "        'c': 3,\n",
    "        'd': 1,\n",
    "        'e': 1,\n",
    "        'f': 4,\n",
    "        'g': 1,\n",
    "        'h': 4,\n",
    "        'i': 1,\n",
    "        'j': 8,\n",
    "        'k': 5,\n",
    "        'l': 1,\n",
    "        'm': 3,\n",
    "        'n': 1,\n",
    "        'o': 1,\n",
    "        'p': 3,\n",
    "        'q': 10,\n",
    "        'r': 1,\n",
    "        's': 1,\n",
    "        't': 1,\n",
    "        'u': 1,\n",
    "        'v': 4,\n",
    "        'w': 4,\n",
    "        'x': 8,\n",
    "        'y': 4,\n",
    "        'z': 10\n",
    "    }\n",
    "    \n",
    "    def scrabble_score(word):\n",
    "        total = 0 \n",
    "        for letter in word:\n",
    "            letter = letter.lower()\n",
    "            total += scores[letter]\n",
    "        return total\n",
    "    \n",
    "    def scrabble_score2(word):\n",
    "        return sum(scores[letter.lower()] for letter in word)\n",
    "\n",
    "    theWord = input('Your word: ')\n",
    "    print(\"Scrabble score of \\'\" + theWord + \"\\' is \" + str(scrabble_score(theWord)))"
   ]
  },
  {
   "cell_type": "markdown",
   "metadata": {},
   "source": [
    "3. Sa se determine daca doua cuvinte sunt unul anagrama celuilalt; exemplu LIBIA -> ABILI. Considerati sortarea caracterelor unui cuvant."
   ]
  },
  {
   "cell_type": "code",
   "execution_count": 43,
   "metadata": {},
   "outputs": [
    {
     "name": "stdin",
     "output_type": "stream",
     "text": [
      "First word:  libia\n",
      "Second word:  abili\n"
     ]
    },
    {
     "name": "stdout",
     "output_type": "stream",
     "text": [
      "The words are anagrams\n"
     ]
    }
   ],
   "source": [
    "cuv1 = input('First word: ')\n",
    "cuv2 = input('Second word: ')\n",
    "\n",
    "cuv1 = sorted(cuv1.lower())\n",
    "cuv2 = sorted(cuv2.lower())\n",
    "\n",
    "if (cuv1 == cuv2):\n",
    "    print('The words are anagrams')\n",
    "else:\n",
    "    print('The words are NOT anagrams')"
   ]
  },
  {
   "cell_type": "markdown",
   "metadata": {},
   "source": [
    "4. Sa se verifice [conjectura Collatz](https://en.wikipedia.org/wiki/Collatz_conjecture) pentru numerele intre 1 si 1000."
   ]
  },
  {
   "cell_type": "code",
   "execution_count": 44,
   "metadata": {},
   "outputs": [
    {
     "name": "stdout",
     "output_type": "stream",
     "text": [
      "The conjecture is confirmed for numbers ranging from 1 to 1000.\n"
     ]
    }
   ],
   "source": [
    "def collatz(number):\n",
    "    while (number != 1):\n",
    "        if (number % 2 == 0):\n",
    "            number = number // 2\n",
    "        else:\n",
    "            number = 3 * number + 1\n",
    "\n",
    "def collatzProof():\n",
    "    for i in range(1, 1001):\n",
    "        collatz(i)\n",
    "    print('The conjecture is confirmed for numbers ranging from 1 to 1000.')\n",
    "    \n",
    "collatzProof()"
   ]
  },
  {
   "cell_type": "markdown",
   "metadata": {},
   "source": [
    "5. Sa se determine daca doua liste sunt una permutarea circulara a celeilalte. Exemplu: [1, 2, 3, 4] si [3, 4, 1, 2] sunt in aceasta situatie, dar nu si [1, 2, 3, 4] cu [3, 4, 2, 1]."
   ]
  },
  {
   "cell_type": "code",
   "execution_count": 56,
   "metadata": {},
   "outputs": [
    {
     "name": "stdout",
     "output_type": "stream",
     "text": [
      "1 2 3 4\n",
      "3 4 1 2\n",
      "True\n",
      "1 2 3 4\n",
      "3 4 2 1\n",
      "False\n"
     ]
    }
   ],
   "source": [
    "def isCircular(arr1, arr2):\n",
    "    if len(arr1) != len(arr2):\n",
    "        return False\n",
    "    \n",
    "    str1 = ' '.join(map(str, arr1))\n",
    "    str2 = ' '.join(map(str, arr2))\n",
    "    if len(str1) != len(str2):\n",
    "        return False\n",
    "    \n",
    "    print(str1)\n",
    "    print(str2)\n",
    "    return str1 in str2 + ' ' + str2\n",
    "\n",
    "arr1 = [1, 2, 3, 4]\n",
    "arr2 = [3, 4, 1, 2]\n",
    "\n",
    "print (isCircular(arr1, arr2))\n",
    "\n",
    "arr1 = [1, 2, 3, 4]\n",
    "arr2 = [3, 4, 2, 1]\n",
    "\n",
    "print (isCircular(arr1, arr2))"
   ]
  },
  {
   "cell_type": "markdown",
   "metadata": {},
   "source": [
    "6. Plecand de la o lista cu numere naturale, sa se creeze numarul obtinut prin concatenarea cifrelor existente. Exemplu: [11, 3, 24, 0, 993] -> 113240993."
   ]
  },
  {
   "cell_type": "code",
   "execution_count": 33,
   "metadata": {},
   "outputs": [
    {
     "name": "stdout",
     "output_type": "stream",
     "text": [
      "113240993\n"
     ]
    }
   ],
   "source": [
    "lista = [11, 3, 24, 0, 993]\n",
    "number = ''\n",
    "for item in lista:\n",
    "    number += (str(item))\n",
    "print(int(number))"
   ]
  },
  {
   "cell_type": "markdown",
   "metadata": {},
   "source": [
    "7. Sa se creeze o functie care preia un numar n si returneaza un alt numar pe baza cifrelor lui n, astfel: se calculeaza numarul cifrelor pare din n (fie el si 0), numarul de cifre impare (poate fi si 0), suma lor si se formeaza numarul din acestea 2; daca exista zero nesemnificativ, acesta se va ignora. Numarul obtinut se va supune aceleiasi transformari. Exemplu: 3->11->22->202->303->123->123->123... Verificati ca dupa un numar finit de transformari se ajunge la numarul 123; faceti aceste verificari pentru numerele din intervalul [1,1000]."
   ]
  },
  {
   "cell_type": "code",
   "execution_count": 47,
   "metadata": {},
   "outputs": [
    {
     "name": "stdout",
     "output_type": "stream",
     "text": [
      "Conjecture is verified for numbers ranging from 1 to 1000.\n"
     ]
    }
   ],
   "source": [
    "def digitCounter(n):\n",
    "    even = 0\n",
    "    odd = 0\n",
    "    while n != 0:\n",
    "        if n % 2 == 0:\n",
    "            even += 1\n",
    "        else:\n",
    "            odd += 1\n",
    "        n = n // 10\n",
    "    return (even, odd)\n",
    "\n",
    "def _123Conjecture(n):\n",
    "    while n != 123:\n",
    "        (even, odd) = digitCounter(n)\n",
    "        nr = ''\n",
    "        if even != 0:\n",
    "            nr += str(even)\n",
    "        nr += str(odd)\n",
    "        nr += str(even + odd)\n",
    "        n = int(nr)\n",
    "    return\n",
    "        \n",
    "for i in range(1, 1001):\n",
    "    _123Conjecture(i)\n",
    "print('Conjecture is verified for numbers ranging from 1 to 1000.')"
   ]
  },
  {
   "cell_type": "markdown",
   "metadata": {},
   "source": [
    "8. Se pleaca de la un numar intreg. Fiecare cifra a sa se scrie cu litere, in limba engleza (de exemplu 5->five). Calculati numarul total de caractere rezultate, iar pentru numarul obtinut repetati procedura. Verificati pentru numerele de la 1 la n ca se obtine intr-un numar finit de pasi numarul 4. Exemplu: 123->onetwothree->11->oneone->6->six->3->three->5->five->4->four->4->four...."
   ]
  },
  {
   "cell_type": "code",
   "execution_count": 48,
   "metadata": {},
   "outputs": [
    {
     "name": "stdin",
     "output_type": "stream",
     "text": [
      "n =  456789\n"
     ]
    },
    {
     "name": "stdout",
     "output_type": "stream",
     "text": [
      "The conjecture is confirmed for n = 456789\n"
     ]
    }
   ],
   "source": [
    "alpha = {\n",
    "    '0':'zero',\n",
    "    '1':'one',\n",
    "    '2':'two',\n",
    "    '3':'three',\n",
    "    '4':'four',\n",
    "    '5':'five',\n",
    "    '6':'six',\n",
    "    '7':'seven',\n",
    "    '8':'eight',\n",
    "    '9':'nine'\n",
    "}\n",
    "\n",
    "\n",
    "def fourConjecture(n):\n",
    "    for number in range(1, n+1):\n",
    "        word = \"\"; x = int(number)\n",
    "        while x != 4:\n",
    "            for digit in str(x):\n",
    "                word += alpha[digit]\n",
    "            x = len(word)\n",
    "            word = \"\"\n",
    "    print('The conjecture is confirmed for n = ' + str(n))\n",
    "        \n",
    "n = int(input('n = '))\n",
    "fourConjecture(n)"
   ]
  },
  {
   "cell_type": "markdown",
   "metadata": {},
   "source": [
    "9. Este rezultatul de mai sus valabil si pentru transcriere in limba romana/maghiara/franceza/alta limba la alegere?"
   ]
  },
  {
   "cell_type": "markdown",
   "metadata": {},
   "source": [
    "Contraexemplu in romana:\n",
    "47 (patrusapte) -> 10 (unuzero) -> 7 (sapte) -> 5 (cinci) -> 5 (cinci) ..."
   ]
  },
  {
   "cell_type": "markdown",
   "metadata": {},
   "source": [
    "10. Se pleaca de la un numar n; se scriu toti divizorii sai, inclusiv 1 si n; se aduna *cifrele* tuturor acestor divizori; pentru numarul obtinut se aplica acelasi procedeu. Verificati ca procesul se stabilizeaza in numarul 15, , pentru un n initial oarecare."
   ]
  },
  {
   "cell_type": "code",
   "execution_count": 32,
   "metadata": {},
   "outputs": [
    {
     "name": "stdin",
     "output_type": "stream",
     "text": [
      "n =  48923764\n"
     ]
    },
    {
     "name": "stdout",
     "output_type": "stream",
     "text": [
      "Stabilized at sum = 15\n"
     ]
    }
   ],
   "source": [
    "def digitSum(n):\n",
    "    sum = 0\n",
    "    while n != 0:\n",
    "        sum += n % 10\n",
    "        n = n // 10\n",
    "    return sum\n",
    "\n",
    "n = int(input(\"n = \"))\n",
    "stabilised = False\n",
    "\n",
    "while not stabilised:\n",
    "    sum = 0\n",
    "    d = 1\n",
    "    while d * d <= n:\n",
    "        if (n % d == 0):\n",
    "            if (n // d == d):\n",
    "                sum += digitSum(d);\n",
    "            else:\n",
    "                sum += digitSum(d) + digitSum(n // d);\n",
    "        d += 1\n",
    "    if sum == n:\n",
    "        print('Stabilized at sum = ' + str(sum))\n",
    "        stabilised = True\n",
    "    n = sum"
   ]
  }
 ],
 "metadata": {
  "kernelspec": {
   "display_name": "Python 3",
   "language": "python",
   "name": "python3"
  },
  "language_info": {
   "codemirror_mode": {
    "name": "ipython",
    "version": 3
   },
   "file_extension": ".py",
   "mimetype": "text/x-python",
   "name": "python",
   "nbconvert_exporter": "python",
   "pygments_lexer": "ipython3",
   "version": "3.7.4"
  }
 },
 "nbformat": 4,
 "nbformat_minor": 4
}
