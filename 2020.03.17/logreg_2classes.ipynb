{
 "cells": [
  {
   "cell_type": "markdown",
   "metadata": {},
   "source": [
    "# Regresia logistică binomială\n",
    "Sîrbu Matei-Dan, _grupa 10LF383_"
   ]
  },
  {
   "cell_type": "markdown",
   "metadata": {},
   "source": [
    "# Load and preprocess data"
   ]
  },
  {
   "cell_type": "code",
   "execution_count": 120,
   "metadata": {
    "ExecuteTime": {
     "end_time": "2020-03-15T20:21:07.452105Z",
     "start_time": "2020-03-15T20:21:05.918341Z"
    }
   },
   "outputs": [],
   "source": [
    "import numpy as np\n",
    "import pandas as pd\n",
    "import matplotlib.pyplot as plt\n",
    "\n",
    "from typing import Tuple, List"
   ]
  },
  {
   "cell_type": "code",
   "execution_count": 121,
   "metadata": {
    "ExecuteTime": {
     "end_time": "2020-03-15T20:21:07.469060Z",
     "start_time": "2020-03-15T20:21:07.456094Z"
    }
   },
   "outputs": [],
   "source": [
    "def load_file(path: str) -> Tuple[np.ndarray, np.ndarray]:\n",
    "    \"\"\"Loads the data from the file stored at :param path: and returns the \n",
    "    input values and the class labels.\n",
    "    :param path: path of a CVS file with data\n",
    "    :return: a tuple containing the input matrix of shape (m, n) and a column \n",
    "    vector with the m class labels in {0, ..., 9}\n",
    "    \"\"\"\n",
    "    # scrieti cod pentru citire de CSV\n",
    "    df = pd.read_csv(path, header=None)\n",
    "    X = df[df.columns[1:]]\n",
    "    y = df[df.columns[0]].to_frame()\n",
    "    assert X.ndim ==  2, 'Matrix required for input values'\n",
    "    assert y.ndim == 2, 'Column matrix required for labels'\n",
    "    assert y.shape == (X.shape[0], 1), 'Same number of lines is required'\n",
    "    return X, y"
   ]
  },
  {
   "cell_type": "code",
   "execution_count": 122,
   "metadata": {
    "ExecuteTime": {
     "end_time": "2020-03-15T20:21:07.485029Z",
     "start_time": "2020-03-15T20:21:07.473049Z"
    }
   },
   "outputs": [],
   "source": [
    "path_train = './data/mnist_train.csv'\n",
    "path_test = './data/mnist_test.csv'"
   ]
  },
  {
   "cell_type": "code",
   "execution_count": 123,
   "metadata": {
    "ExecuteTime": {
     "end_time": "2020-03-15T20:21:12.708768Z",
     "start_time": "2020-03-15T20:21:07.488011Z"
    }
   },
   "outputs": [],
   "source": [
    "X_train, y_train = load_file(path_train)\n",
    "assert X_train.shape == (60000, 784)\n",
    "assert y_train.shape == (60000, 1)\n",
    "\n",
    "X_test, y_test = load_file(path_test)\n",
    "assert X_test.shape == (10000, 784)\n",
    "assert y_test.shape == (10000, 1)"
   ]
  },
  {
   "cell_type": "code",
   "execution_count": 124,
   "metadata": {
    "ExecuteTime": {
     "end_time": "2020-03-15T20:21:12.717744Z",
     "start_time": "2020-03-15T20:21:12.710762Z"
    }
   },
   "outputs": [],
   "source": [
    "def scale_values(X: np.ndarray) -> np.ndarray:\n",
    "    \"\"\"Scales the values to range [0, 1].\n",
    "    :param X: an (m, n) matrix with values between 0 and 255.\n",
    "    :return: an (m, n) matrix containing values of :param X: scaled in [0, 1]\n",
    "    \"\"\"\n",
    "    # scrieti cod pentru scalare intre 0 si 1\n",
    "    result = np.array(X) / 255\n",
    "    assert 0 <= np.min(result) <= np.max(result) <= 1, 'Scaled values should be in [0, 1]'\n",
    "    assert X.shape == result.shape, 'Scaling preserves shape'\n",
    "    return result"
   ]
  },
  {
   "cell_type": "code",
   "execution_count": 125,
   "metadata": {
    "ExecuteTime": {
     "end_time": "2020-03-15T20:21:12.994445Z",
     "start_time": "2020-03-15T20:21:12.724725Z"
    }
   },
   "outputs": [],
   "source": [
    "X_train = scale_values(X_train)\n",
    "assert X_train.shape == (60000, 784)"
   ]
  },
  {
   "cell_type": "code",
   "execution_count": 126,
   "metadata": {
    "ExecuteTime": {
     "end_time": "2020-03-15T20:21:13.048220Z",
     "start_time": "2020-03-15T20:21:12.996361Z"
    }
   },
   "outputs": [],
   "source": [
    "X_test = scale_values(X_test)\n",
    "assert X_test.shape == (10000, 784)"
   ]
  },
  {
   "cell_type": "code",
   "execution_count": 127,
   "metadata": {
    "ExecuteTime": {
     "end_time": "2020-03-15T20:21:13.057200Z",
     "start_time": "2020-03-15T20:21:13.049218Z"
    }
   },
   "outputs": [],
   "source": [
    "digit1, digit2 = 3, 7 # alegeti 2 cifre"
   ]
  },
  {
   "cell_type": "code",
   "execution_count": 128,
   "metadata": {
    "ExecuteTime": {
     "end_time": "2020-03-15T20:21:13.073450Z",
     "start_time": "2020-03-15T20:21:13.059456Z"
    }
   },
   "outputs": [],
   "source": [
    "def filter_digits(X: np.ndarray, y: np.ndarray, digit1: int, digit2: int) -> Tuple[np.ndarray, np.ndarray]:\n",
    "    \"\"\"Returns the cases of class digit1 and digit2\n",
    "    :param X: an (m, n) ndarray; each row is a digit\n",
    "    :param y: an (m,1) vector; y[i, 0] is the class of digit i\n",
    "    :param digit1: the first class to be selected\n",
    "    :param digit2: the second class to be selected\n",
    "    :return: a tuple of: (m', n) ndarray containing the rows with digits of \n",
    "    class digit1, digit2, and a (m', 1) ndarray with values digit1, digit2 \n",
    "    \"\"\"\n",
    "    assert X.shape[0] == y.shape[0], 'X and y should have the same number of rows'\n",
    "    assert y.shape[1] == 1, 'y should be column matrix'\n",
    "    assert 0 <= min(digit1, digit2) < max(digit1, digit2) <= 9, 'there should be two different digits'\n",
    "    # cod vectorizat pentru a selecta in result doar acele linii de clasa digit1, digit2\n",
    "    rows_idx = np.where(np.logical_or(y==digit1,y==digit2))[0]\n",
    "    result_X = X[rows_idx]\n",
    "    result_y = np.array(y)[rows_idx]\n",
    "\n",
    "    assert result_X.shape[1] == X.shape[1], 'The number of columns should be the same after filtering'\n",
    "    assert result_X.shape[0] == result_y.shape[0], 'Input and output should have the same number of rows'\n",
    "    assert result_y.shape[1] == 1, 'The output values should be a column matrix'\n",
    "    assert set(result_y[:, 0]) == set([digit1, digit2]), f'The labels should be {digit1} and {digit2}'\n",
    "    return result_X, result_y "
   ]
  },
  {
   "cell_type": "code",
   "execution_count": 129,
   "metadata": {
    "ExecuteTime": {
     "end_time": "2020-03-15T20:21:13.211565Z",
     "start_time": "2020-03-15T20:21:13.075416Z"
    }
   },
   "outputs": [],
   "source": [
    "X_train_2digits, y_train_2digits = filter_digits(X_train, y_train, digit1, digit2)\n",
    "X_test_2digits, y_test_2digits = filter_digits(X_test, y_test, digit1, digit2)"
   ]
  },
  {
   "cell_type": "code",
   "execution_count": 130,
   "metadata": {
    "ExecuteTime": {
     "end_time": "2020-03-15T20:21:13.219548Z",
     "start_time": "2020-03-15T20:21:13.212558Z"
    }
   },
   "outputs": [],
   "source": [
    "def change_classes_to_0_1(y: np.ndarray, digit1: int, digit2: int) -> np.ndarray:\n",
    "    \"\"\"Replaces the values from y: digit1, digit2 are replaced with 0 and 1, \n",
    "    respectively\n",
    "    :param y: an (m, 1) vector containing only values digit1 and digit2\n",
    "    :param digit1: the first class, to be replaced with 0\n",
    "    :param digit2: the second class, to be replaced with 1\n",
    "    :return: None \n",
    "    \"\"\"\n",
    "    assert y.shape[1] == 1\n",
    "    y = (y == digit2).astype(int)\n",
    "    return y\n",
    "    # cod pentru a seta clasele: digit1 -> 0, digit2 -> 1; atentie la cazul in care digit1=1, digit2=0 "
   ]
  },
  {
   "cell_type": "code",
   "execution_count": 131,
   "metadata": {
    "ExecuteTime": {
     "end_time": "2020-03-15T20:21:13.234500Z",
     "start_time": "2020-03-15T20:21:13.223530Z"
    }
   },
   "outputs": [],
   "source": [
    "y_train_2digits = change_classes_to_0_1(y_train_2digits, digit1, digit2)\n",
    "y_test_2digits = change_classes_to_0_1(y_test_2digits, digit1, digit2)\n",
    "\n",
    "assert X_train_2digits.shape[0] == y_train_2digits.shape[0]\n",
    "assert X_test_2digits.shape[0] == y_test_2digits.shape[0]\n",
    "\n",
    "assert np.min(y_train_2digits) == 0\n",
    "assert np.max(y_train_2digits) == 1\n",
    "\n",
    "assert np.min(y_test_2digits) == 0\n",
    "assert np.max(y_test_2digits) == 1"
   ]
  },
  {
   "cell_type": "code",
   "execution_count": 132,
   "metadata": {
    "ExecuteTime": {
     "end_time": "2020-03-15T20:21:13.249463Z",
     "start_time": "2020-03-15T20:21:13.240485Z"
    }
   },
   "outputs": [],
   "source": [
    "def augment_matrix(X: np.ndarray) -> np.ndarray:\n",
    "    \"\"\"Creates the design matrix: the original matrix with a prepended column \n",
    "    of 1.\n",
    "    :param X: an (m, n) matrix. Each row contains the pixels of a digit.\n",
    "    :return: an ndarray of shape (X.shape[0], X.shape[1]+1)\n",
    "    \"\"\"\n",
    "    m = X.shape[0]\n",
    "    result = np.hstack((np.ones(m).reshape(m, 1), X))\n",
    "    assert result.shape == (X.shape[0], X.shape[1] + 1)\n",
    "    assert np.alltrue(result[:, 0] == 1), 'The first column should be filled with 1'\n",
    "    return result"
   ]
  },
  {
   "cell_type": "code",
   "execution_count": 133,
   "metadata": {
    "ExecuteTime": {
     "end_time": "2020-03-15T20:21:13.327252Z",
     "start_time": "2020-03-15T20:21:13.254448Z"
    }
   },
   "outputs": [],
   "source": [
    "old_shape_train = X_train_2digits.shape\n",
    "old_shape_test = X_test_2digits.shape\n",
    "\n",
    "X_train_2digits = augment_matrix(X_train_2digits)\n",
    "X_test_2digits = augment_matrix(X_test_2digits)"
   ]
  },
  {
   "cell_type": "markdown",
   "metadata": {
    "ExecuteTime": {
     "end_time": "2019-11-24T15:41:07.997557Z",
     "start_time": "2019-11-24T15:41:07.991110Z"
    }
   },
   "source": [
    "# Create model"
   ]
  },
  {
   "cell_type": "markdown",
   "metadata": {},
   "source": [
    "$$\\large h_\\theta(x) = \\frac{1}{1 + \\exp{(-\\theta^t \\cdot x)}}$$"
   ]
  },
  {
   "cell_type": "code",
   "execution_count": 134,
   "metadata": {
    "ExecuteTime": {
     "end_time": "2020-03-15T20:21:13.340218Z",
     "start_time": "2020-03-15T20:21:13.329249Z"
    }
   },
   "outputs": [],
   "source": [
    "def model(X: np.ndarray, theta: np.ndarray) -> np.ndarray:\n",
    "    \"\"\"Creates a prediction of the conditional probability P(class=1|X)\n",
    "    :param X: an (m, n) ndarray; each row is a (bias + digit pixels) for which\n",
    "    the conditional probability has to be computed.\n",
    "    :param theta: a (n, 1) vector of weights\n",
    "    :return: an (m, 1) vector containing on each i the conditional probability\n",
    "    P(class=1|X[i, :])\n",
    "    \"\"\"\n",
    "    assert theta.ndim == 2, 'theta should be a vector column'\n",
    "    assert X.shape[1] == theta.shape[0]\n",
    "    # calcul logistic sigmoid pentru datele din X\n",
    "    result = 1 / (1 + np.exp(np.matmul(X, -theta)))\n",
    "    assert result.shape == (X.shape[0], 1), 'The result should be a vector column'\n",
    "    assert 0 <= np.min(result) <= np.max(result) <= 1, 'There should be only probabilities inside the result vector' \n",
    "    return result"
   ]
  },
  {
   "cell_type": "markdown",
   "metadata": {},
   "source": [
    "$$\\large J(\\theta) = -\\frac{1}{m} \\sum_{j=1}^m\\Big[ y^{(j)} \\cdot \\ln h_\\theta (x^{(j)}) + (1 - y^{(j)}) \\cdot \\ln (1 - h_\\theta(x^{(j)})) \\Big] + \\frac{\\lambda}{2m} \\sum_{i=1}^n \\theta_i^2$$\n",
    "$$\\text{(formula 3.14 din curs)}$$"
   ]
  },
  {
   "cell_type": "code",
   "execution_count": 135,
   "metadata": {
    "ExecuteTime": {
     "end_time": "2020-03-15T20:21:13.423994Z",
     "start_time": "2020-03-15T20:21:13.411028Z"
    }
   },
   "outputs": [],
   "source": [
    "def J(X: np.ndarray, y: np.ndarray, theta: np.ndarray, _lambda: float) -> float:\n",
    "    \"\"\"Defines the error function to be minimized for the current model.\n",
    "    :param X: an (m, n) ndarray; each row is a (bias + digit pixels) for which\n",
    "    the conditional probability has to be computed.\n",
    "    :param y: the true classes of the digits, (m, 1) binary array\n",
    "    :param theta: a (n, 1) vector of weights\n",
    "    :param _lambda: the L2 penalty coefficient\n",
    "    :return: the error value \n",
    "    \"\"\"\n",
    "    THRESHOLD = 1e-5\n",
    "    m = X.shape[0]\n",
    "    # calcul valoare aproximativa\n",
    "    y_hat = model(X, theta)\n",
    "    y_hat = np.clip(y_hat, THRESHOLD, 1-THRESHOLD)\n",
    "    # calcul binary cross entropy\n",
    "    loss1 = (-1/m) * np.sum((y * np.log(y_hat)) + ((1 - y) * (np.log(1 - y_hat))))\n",
    "    # calcul termen de penalizare L2\n",
    "    loss2 = _lambda / (2 * m) * np.sum(theta**2)\n",
    "    return loss1 + loss2"
   ]
  },
  {
   "cell_type": "markdown",
   "metadata": {},
   "source": [
    "# Train model"
   ]
  },
  {
   "cell_type": "markdown",
   "metadata": {},
   "source": [
    "vectorul de gradienți:\n",
    "$$\\nabla_\\theta J(\\theta) = \\begin{bmatrix} \\frac{\\partial J}{\\partial \\theta_0} \\\\ \\frac{\\partial J}{\\partial \\theta_1} \\\\ . . . \\\\ \\frac{\\partial J}{\\partial \\theta_n} \\end{bmatrix}\n",
    "$$\n",
    "unde\n",
    "$$\\large \\frac{\\partial J}{\\partial \\theta_0}(\\theta) = \\frac{1}{m} \\sum_{j=1}^m \\Big( (h_\\theta(x^{(j)}) - y^{(j)}) \\cdot x_0^{(j)} \\Big)$$\n",
    "și\n",
    "$$\\large \\frac{\\partial J}{\\partial \\theta_i}(\\theta) = \\Bigg[ \\frac{1}{m} \\sum_{j=1}^m \\Big( (h_\\theta(x^{(j)}) - y^{(j)}) \\cdot x_i^{(j)} \\Big) + \\frac{\\lambda}{m} \\theta_i \\Bigg], \\text{pentru} \\ \\ i \\geq 1\n",
    "$$"
   ]
  },
  {
   "cell_type": "code",
   "execution_count": 136,
   "metadata": {
    "ExecuteTime": {
     "end_time": "2020-03-15T20:21:13.460897Z",
     "start_time": "2020-03-15T20:21:13.445938Z"
    }
   },
   "outputs": [],
   "source": [
    "def grad(X: np.ndarray, y: np.ndarray, theta: np.ndarray, _lambda: float) -> np.ndarray:\n",
    "    \"\"\"Computes the gradient of a loss function\n",
    "    :param X: an (m, n) ndarray; each row is a (bias + digit pixels)\n",
    "    :param y: the true classes of the digits, (m, 1) binary array\n",
    "    :param theta: a (n, 1) vector of weights\n",
    "    :param _lambda: the L2 penalty coefficient\n",
    "    :return: the gradient of the error function \n",
    "    \"\"\"\n",
    "    m = X.shape[0]\n",
    "    y_hat = model(X, theta)\n",
    "    # calcul gradient\n",
    "    gradient = 1/m * (np.matmul(X.transpose(), y_hat - y))\n",
    "    # adaugare penalizare L2\n",
    "    gradient[1:] += (_lambda/m)*theta[1:]\n",
    "    return gradient"
   ]
  },
  {
   "cell_type": "markdown",
   "metadata": {},
   "source": [
    "Algoritm de instruire: <br>\n",
    "`repetă {`\n",
    "$$ \\large \\theta_0 := \\theta_0 - \\alpha \\frac{1}{m} \\sum_{j=1}^{m} (h_\\theta (x^{(j)}) - y^{(j)}) \\cdot x_0^{(j)}$$\n",
    "$$ \\large \\theta_i := \\theta_i - \\alpha \\Big[ \\frac{1}{m} \\sum_{j=1}^{m} (h_\\theta (x^{(j)}) - y^{(j)}) \\cdot x_i^{(j)} + \\frac{\\lambda}{m} \\theta_i \\Big]$$\n",
    "`} până la convergență`"
   ]
  },
  {
   "cell_type": "code",
   "execution_count": 137,
   "metadata": {
    "ExecuteTime": {
     "end_time": "2020-03-15T20:21:13.478849Z",
     "start_time": "2020-03-15T20:21:13.462890Z"
    }
   },
   "outputs": [],
   "source": [
    "def train(X: np.ndarray, y: np.ndarray, theta_init: np.ndarray, _lambda: float, alpha: float, max_delta_error: float=1e-5) -> Tuple[np.ndarray, List[float]]:\n",
    "    \"\"\"Trains the logistic regression model.\n",
    "    :param X: an (m, n) ndarray; each row is a (bias + digit pixels)\n",
    "    :param y: the true classes of the digits, an (m, 1) binary array\n",
    "    :param theta_init: a (n, 1) vector of weights\n",
    "    :param _lambda: the L2 penalty coefficient\n",
    "    :param alpha: learning rate\n",
    "    :param max_delta_error: an upper threshold between two consecutive errors.\n",
    "    If the last two error values are closest than :param max_delta_error:, \n",
    "    the training is stopped\n",
    "    :return: the gradient of the error function\n",
    "    \"\"\"\n",
    "    theta = theta_init\n",
    "    errors = [J(X, y, theta, _lambda)]\n",
    "    epoch = 0\n",
    "    while True:\n",
    "        epoch += 1\n",
    "        theta += -alpha * grad(X, y, theta, _lambda)\n",
    "        error = J(X, y, theta, _lambda)\n",
    "        errors.append(error)\n",
    "        if epoch % 100 == 0:\n",
    "            print(f'Epoch: {epoch}, error: {error}')\n",
    "        if np.abs(errors[-1] - errors[-2]) < max_delta_error:\n",
    "            break\n",
    "    return theta, errors"
   ]
  },
  {
   "cell_type": "code",
   "execution_count": 138,
   "metadata": {
    "ExecuteTime": {
     "end_time": "2020-03-15T20:22:44.860736Z",
     "start_time": "2020-03-15T20:21:13.480841Z"
    }
   },
   "outputs": [
    {
     "name": "stdout",
     "output_type": "stream",
     "text": [
      "Epoch: 100, error: 0.048038250690210324\n",
      "Epoch: 200, error: 0.04138650238911208\n",
      "Epoch: 300, error: 0.03805756666042286\n",
      "Epoch: 400, error: 0.03590744715042188\n",
      "Epoch: 500, error: 0.03434901362152299\n",
      "Epoch: 600, error: 0.033142308816898364\n",
      "Epoch: 700, error: 0.03216636345653234\n",
      "Epoch: 800, error: 0.03135194562831745\n",
      "Epoch: 900, error: 0.030655956702241294\n",
      "Epoch: 1000, error: 0.030049912780528983\n",
      "Epoch: 1100, error: 0.02951413341245072\n"
     ]
    }
   ],
   "source": [
    "n = X_train_2digits.shape[1]\n",
    "theta = np.zeros((n, 1))\n",
    "theta, errors = train(X_train_2digits, y_train_2digits, theta, _lambda=0.1, alpha=1.0, max_delta_error=5e-6)"
   ]
  },
  {
   "cell_type": "code",
   "execution_count": 139,
   "metadata": {
    "ExecuteTime": {
     "end_time": "2020-03-15T20:22:45.093117Z",
     "start_time": "2020-03-15T20:22:44.863730Z"
    }
   },
   "outputs": [
    {
     "data": {
      "image/png": "[encoded data removed]",
      "text/plain": [
       "<Figure size 720x576 with 1 Axes>"
      ]
     },
     "metadata": {
      "needs_background": "light"
     },
     "output_type": "display_data"
    }
   ],
   "source": [
    "plt.figure(figsize=(10, 8))\n",
    "plt.plot(errors)\n",
    "plt.xlabel('Epochs')\n",
    "plt.ylabel('Loss')\n",
    "plt.show()"
   ]
  },
  {
   "cell_type": "markdown",
   "metadata": {},
   "source": [
    "# Test model"
   ]
  },
  {
   "cell_type": "code",
   "execution_count": 140,
   "metadata": {
    "ExecuteTime": {
     "end_time": "2020-03-15T20:22:45.109074Z",
     "start_time": "2020-03-15T20:22:45.099100Z"
    }
   },
   "outputs": [],
   "source": [
    "def classification_accuracy(X: np.ndarray, y: np.ndarray, theta: np.ndarray, threshold:float=0.5) -> np.ndarray:\n",
    "    \"\"\"Returns the predicted class of the given dataset\n",
    "    :param X: an (m, n) ndarray; each row is a (bias + digit pixels)\n",
    "    :param y: ground truth\n",
    "    :param theta: a (n, 1) vector of weights\n",
    "    :param threshold: the threshold against wihch the conditional \n",
    "    probabilities are compared. If conditional probability is greater than \n",
    "    :param threshold:, then the predicted class is 1 otherwise 0.\n",
    "    :return: the percentage of correctly classified cases.\n",
    "    \"\"\"\n",
    "    y_hat = model(X, theta)\n",
    "    assert y.shape == y_hat.shape\n",
    "    y_predicted = y_hat >= threshold\n",
    "    return (y_predicted == y).sum() / X.shape[0]"
   ]
  },
  {
   "cell_type": "code",
   "execution_count": 141,
   "metadata": {
    "ExecuteTime": {
     "end_time": "2020-03-15T20:22:45.188860Z",
     "start_time": "2020-03-15T20:22:45.115058Z"
    }
   },
   "outputs": [
    {
     "name": "stdout",
     "output_type": "stream",
     "text": [
      "Train accuracy: 99.10454985479187%\n"
     ]
    }
   ],
   "source": [
    "train_accuracy = classification_accuracy(X_train_2digits, y_train_2digits, theta)\n",
    "print(f'Train accuracy: {train_accuracy * 100}%')"
   ]
  },
  {
   "cell_type": "code",
   "execution_count": 142,
   "metadata": {
    "ExecuteTime": {
     "end_time": "2020-03-15T20:22:45.207811Z",
     "start_time": "2020-03-15T20:22:45.190854Z"
    }
   },
   "outputs": [
    {
     "name": "stdout",
     "output_type": "stream",
     "text": [
      "Test accuracy: 98.42983316977428%\n"
     ]
    }
   ],
   "source": [
    "test_accuracy = classification_accuracy(X_test_2digits, y_test_2digits, theta)\n",
    "print(f'Test accuracy: {test_accuracy * 100}%')"
   ]
  },
  {
   "cell_type": "code",
   "execution_count": 143,
   "metadata": {},
   "outputs": [
    {
     "data": {
      "text/html": [
       "<h3>Matricea de confuzie pentru setul de testare:</h3>"
      ],
      "text/plain": [
       "<IPython.core.display.HTML object>"
      ]
     },
     "metadata": {},
     "output_type": "display_data"
    },
    {
     "data": {
      "text/html": [
       "<table border=\"1\" class=\"dataframe\">\n",
       "  <thead>\n",
       "    <tr style=\"text-align: right;\">\n",
       "      <th></th>\n",
       "      <th>Actual class: 3</th>\n",
       "      <th>Actual class: 7</th>\n",
       "    </tr>\n",
       "  </thead>\n",
       "  <tbody>\n",
       "    <tr>\n",
       "      <th>Predicted class: 3</th>\n",
       "      <td>996</td>\n",
       "      <td>18</td>\n",
       "    </tr>\n",
       "    <tr>\n",
       "      <th>Predicted class: 7</th>\n",
       "      <td>14</td>\n",
       "      <td>1010</td>\n",
       "    </tr>\n",
       "  </tbody>\n",
       "</table>"
      ],
      "text/plain": [
       "<IPython.core.display.HTML object>"
      ]
     },
     "metadata": {},
     "output_type": "display_data"
    }
   ],
   "source": [
    "# cod pentru calcul si afisare matrice de confuzie\n",
    "from IPython.display import display, HTML\n",
    "\n",
    "def compute_confusion_matrix(X: np.ndarray, y: np.ndarray, theta: np.ndarray, threshold: float=0.5) -> pd.DataFrame:\n",
    "    \"\"\"Returns the confusion matrix of a given dataset.\n",
    "    :param X: an (m, n) ndarray; each row is a (bias + digit pixels)\n",
    "    :param y: ground truth\n",
    "    :param theta: a (n, 1) vector of weights\n",
    "    :param threshold: the threshold against which the conditional \n",
    "    probabilities are compared. If conditional probability is greater than \n",
    "    :param threshold:, then the predicted class is 1 otherwise 0.\n",
    "    :return: the confusion matrix as a pandas DataFrame.\n",
    "    \"\"\"\n",
    "    conf_mat = np.zeros((2, 2))\n",
    "    y_hat = model(X, theta)\n",
    "    y_predicted = y_hat >= threshold\n",
    "    conf_mat[0][0] = np.logical_and(y_predicted == y, y == 0).sum()\n",
    "    conf_mat[1][1] = np.logical_and(y_predicted == y, y == 1).sum()\n",
    "    conf_mat[0][1] = np.logical_and(y_predicted != y, y == 1).sum()\n",
    "    conf_mat[1][0] = np.logical_and(y_predicted != y, y == 0).sum()\n",
    "    df_conf_mat = pd.DataFrame(conf_mat, dtype=int)\n",
    "    df_conf_mat.columns = ['Actual class: ' + str(digit1), 'Actual class: ' + str(digit2)]\n",
    "    df_conf_mat.index = ['Predicted class: ' + str(digit1), 'Predicted class: ' + str(digit2)]\n",
    "    return df_conf_mat\n",
    "\n",
    "conf_mat = compute_confusion_matrix(X_test_2digits, y_test_2digits, theta)\n",
    "display(HTML('<h3>Matricea de confuzie pentru setul de testare:</h3>'))\n",
    "display(HTML(conf_mat.to_html()))"
   ]
  }
 ],
 "metadata": {
  "kernelspec": {
   "display_name": "Python 3",
   "language": "python",
   "name": "python3"
  },
  "language_info": {
   "codemirror_mode": {
    "name": "ipython",
    "version": 3
   },
   "file_extension": ".py",
   "mimetype": "text/x-python",
   "name": "python",
   "nbconvert_exporter": "python",
   "pygments_lexer": "ipython3",
   "version": "3.7.6"
  },
  "notify_time": "10",
  "toc": {
   "base_numbering": 1,
   "nav_menu": {},
   "number_sections": true,
   "sideBar": true,
   "skip_h1_title": false,
   "title_cell": "Table of Contents",
   "title_sidebar": "Contents",
   "toc_cell": false,
   "toc_position": {},
   "toc_section_display": true,
   "toc_window_display": false
  },
  "varInspector": {
   "cols": {
    "lenName": 16,
    "lenType": 16,
    "lenVar": 40
   },
   "kernels_config": {
    "python": {
     "delete_cmd_postfix": "",
     "delete_cmd_prefix": "del ",
     "library": "var_list.py",
     "varRefreshCmd": "print(var_dic_list())"
    },
    "r": {
     "delete_cmd_postfix": ") ",
     "delete_cmd_prefix": "rm(",
     "library": "var_list.r",
     "varRefreshCmd": "cat(var_dic_list()) "
    }
   },
   "types_to_exclude": [
    "module",
    "function",
    "builtin_function_or_method",
    "instance",
    "_Feature"
   ],
   "window_display": false
  }
 },
 "nbformat": 4,
 "nbformat_minor": 4
}
