{
 "cells": [
  {
   "cell_type": "markdown",
   "metadata": {},
   "source": [
    "# Regresia logistică multinomială\n",
    "Sîrbu Matei-Dan, _grupa 10LF383_"
   ]
  },
  {
   "cell_type": "markdown",
   "metadata": {},
   "source": [
    "# Load data, filtering"
   ]
  },
  {
   "cell_type": "code",
   "execution_count": 1,
   "metadata": {
    "ExecuteTime": {
     "end_time": "2020-03-16T15:26:59.104551Z",
     "start_time": "2020-03-16T15:26:58.253819Z"
    }
   },
   "outputs": [],
   "source": [
    "import numpy as np\n",
    "import pandas as pd\n",
    "import matplotlib.pyplot as plt\n",
    "\n",
    "from typing import Tuple, List"
   ]
  },
  {
   "cell_type": "code",
   "execution_count": 2,
   "metadata": {
    "ExecuteTime": {
     "end_time": "2020-03-16T15:26:59.115435Z",
     "start_time": "2020-03-16T15:26:59.108453Z"
    }
   },
   "outputs": [],
   "source": [
    "def load_file(path: str) -> Tuple[np.ndarray, np.ndarray]:\n",
    "    \"\"\"Loads the data from the file stored at :param path: and returns the \n",
    "    input values and the class labels.\n",
    "    :param path: path of a CVS file with data\n",
    "    :return: a tuple containing the input matrix of shape (m, n) and a column \n",
    "    vector with the m class labels in {0, ..., 9}\n",
    "    \"\"\"\n",
    "    # scrieti cod pentru citire de CSV\n",
    "    df = pd.read_csv(path, header=None)\n",
    "    X = df[df.columns[1:]]\n",
    "    y = df[df.columns[0]].to_frame()\n",
    "    assert X.ndim ==  2, 'Matrix required for input values'\n",
    "    assert y.ndim == 2, 'Column matrix required for labels'\n",
    "    assert y.shape == (X.shape[0], 1), 'Same number of lines is required'\n",
    "    return X, y"
   ]
  },
  {
   "cell_type": "code",
   "execution_count": 3,
   "metadata": {
    "ExecuteTime": {
     "end_time": "2020-03-16T15:26:59.125409Z",
     "start_time": "2020-03-16T15:26:59.117428Z"
    }
   },
   "outputs": [],
   "source": [
    "path_train = './data/mnist_train.csv'\n",
    "path_test = './data/mnist_test.csv'"
   ]
  },
  {
   "cell_type": "code",
   "execution_count": 4,
   "metadata": {
    "ExecuteTime": {
     "end_time": "2020-03-16T15:27:02.909312Z",
     "start_time": "2020-03-16T15:26:59.128400Z"
    }
   },
   "outputs": [],
   "source": [
    "X_train, y_train = load_file(path_train)\n",
    "assert X_train.shape == (60000, 784)\n",
    "assert y_train.shape == (60000, 1)\n",
    "\n",
    "X_test, y_test = load_file(path_test)\n",
    "assert X_test.shape == (10000, 784)\n",
    "assert y_test.shape == (10000, 1)"
   ]
  },
  {
   "cell_type": "code",
   "execution_count": 5,
   "metadata": {
    "ExecuteTime": {
     "end_time": "2020-03-16T15:27:02.918267Z",
     "start_time": "2020-03-16T15:27:02.911284Z"
    }
   },
   "outputs": [],
   "source": [
    "def scale_values(X: np.ndarray) -> np.ndarray:\n",
    "    \"\"\"Scales the values to range [0, 1].\n",
    "    :param X: an (m, n) matrix with values between 0 and 255.\n",
    "    :return: an (m, n) matrix containing values of :param X: scaled in [0, 1]\n",
    "    \"\"\"\n",
    "    # scrieti cod pentru scalare intre 0 si 1\n",
    "    result = np.array(X) / 255\n",
    "    assert 0 <= np.min(result) <= np.max(result) <= 1, 'Scaled values should be in [0, 1]'\n",
    "    assert X.shape == result.shape, 'Scaling preserves shape'\n",
    "    return result"
   ]
  },
  {
   "cell_type": "code",
   "execution_count": 6,
   "metadata": {
    "ExecuteTime": {
     "end_time": "2020-03-16T15:27:03.198600Z",
     "start_time": "2020-03-16T15:27:02.921254Z"
    }
   },
   "outputs": [],
   "source": [
    "X_train = scale_values(X_train)\n",
    "assert X_train.shape == (60000, 784)\n",
    "X_test = scale_values(X_test)\n",
    "assert X_test.shape == (10000, 784)"
   ]
  },
  {
   "cell_type": "code",
   "execution_count": 7,
   "metadata": {
    "ExecuteTime": {
     "end_time": "2020-03-16T15:27:03.208779Z",
     "start_time": "2020-03-16T15:27:03.200800Z"
    }
   },
   "outputs": [],
   "source": [
    "def augment_matrix(X: np.ndarray) -> np.ndarray:\n",
    "    \"\"\"Creates the design matrix: the original matrix with a prepended column \n",
    "    of 1.\n",
    "    :param X: an (m, n) matrix. Each row contains the pixels of a digit.\n",
    "    :return: an ndarray of shape (X.shape[0], X.shape[1]+1)\n",
    "    \"\"\"\n",
    "    m = X.shape[0]\n",
    "    result = np.hstack((np.ones(m).reshape(m, 1), X))\n",
    "    assert result.shape == (X.shape[0], X.shape[1] + 1)\n",
    "    assert np.alltrue(result[:, 0] == 1), 'The first column should be filled with 1'\n",
    "    return result"
   ]
  },
  {
   "cell_type": "code",
   "execution_count": 8,
   "metadata": {
    "ExecuteTime": {
     "end_time": "2020-03-16T15:27:03.503989Z",
     "start_time": "2020-03-16T15:27:03.212768Z"
    }
   },
   "outputs": [],
   "source": [
    "X_train = augment_matrix(X_train)\n",
    "X_test = augment_matrix(X_test)"
   ]
  },
  {
   "cell_type": "markdown",
   "metadata": {
    "ExecuteTime": {
     "end_time": "2019-11-24T15:41:07.997557Z",
     "start_time": "2019-11-24T15:41:07.991110Z"
    }
   },
   "source": [
    "# Create model"
   ]
  },
  {
   "cell_type": "markdown",
   "metadata": {},
   "source": [
    "$$\\large h_\\Theta (\\textbf{x})= \\begin{pmatrix} P(y = 1|\\textbf{x};\\Theta) \\\\ P(y = 2|\\textbf{x};\\Theta) \\\\ . . . \\\\ P(y = K|\\textbf{x};\\Theta) \\end{pmatrix} = softmax \\begin{pmatrix} \\theta_1^t \\cdot \\textbf{x} \\\\ \\theta_2^t \\cdot \\textbf{x} \\\\ . . . \\\\ \\theta_K^t \\cdot \\textbf{x} \\end{pmatrix} $$<br>\n",
    "$$\\large \\textbf{z} = (z_1, ..., z_K)^t$$ <br>\n",
    "$$\\large softmax(\\textbf{z};l) = \\frac{\\exp(z_l)}{\\sum_{k=1}^K \\exp(z_k)}$$\n",
    "<p style=\"text-align: center;\">sau $\\large softmax(\\textbf{z}';l) = \\frac{\\exp(z_l - M)}{\\sum_{k=1}^K \\exp(z_k - M)}$</p>\n",
    "<p style=\"text-align: center;\">unde $k$ este numărul de clase; $ \\textbf{z}' = (z_1 - M, ..., z_K - M)^t$ și $M$ valoarea maximă din $(z_1, ..., z_K)^t$ </p>"
   ]
  },
  {
   "cell_type": "code",
   "execution_count": 9,
   "metadata": {
    "ExecuteTime": {
     "end_time": "2020-03-16T15:27:03.516959Z",
     "start_time": "2020-03-16T15:27:03.506981Z"
    }
   },
   "outputs": [],
   "source": [
    "k = 10 # number of classes\n",
    "m, n = X_train.shape # after augmentation"
   ]
  },
  {
   "cell_type": "code",
   "execution_count": 10,
   "metadata": {
    "ExecuteTime": {
     "end_time": "2020-03-16T15:27:03.530917Z",
     "start_time": "2020-03-16T15:27:03.521942Z"
    }
   },
   "outputs": [],
   "source": [
    "def softmax(z, axis=1):\n",
    "    \"\"\"Applies softmax to a matrix z.\n",
    "    :param z: np.array of shape (m, k)\n",
    "    :return: np.array of shape (m, k) containing in cell (i, j): P(class=j|input i)\n",
    "    \"\"\"\n",
    "    max_z = np.max(z, axis=axis, keepdims=True) # maximum on each row\n",
    "    # calcul de expnentiala; folosoti trucul dat in curs, utilizand max_z\n",
    "    exp_z = np.exp(z-max_z) # all numbers exponentiated\n",
    "    sum_exp_z = np.sum(np.exp(z-max_z), axis=axis, keepdims=True) # sum on each row\n",
    "    # scrieti cod; se face normalizarea valorilor; considerati ultimul asert\n",
    "    result = exp_z/sum_exp_z\n",
    "    assert exp_z.shape == z.shape\n",
    "    assert np.allclose(np.sum(result, axis=1), 1)\n",
    "    return result"
   ]
  },
  {
   "cell_type": "code",
   "execution_count": 11,
   "metadata": {
    "ExecuteTime": {
     "end_time": "2020-03-16T15:27:03.542885Z",
     "start_time": "2020-03-16T15:27:03.535908Z"
    }
   },
   "outputs": [],
   "source": [
    "def can_multiply(a, b):\n",
    "    return a.ndim == b.ndim == 2 and a.shape[1] == b.shape[0]"
   ]
  },
  {
   "cell_type": "code",
   "execution_count": 12,
   "metadata": {
    "ExecuteTime": {
     "end_time": "2020-03-16T15:27:03.552864Z",
     "start_time": "2020-03-16T15:27:03.544879Z"
    }
   },
   "outputs": [],
   "source": [
    "def model(X, theta):\n",
    "    \"\"\"\n",
    "    :param X: np.array of shape (m, n)\n",
    "    :param theta: np.array of shape (n, k)\n",
    "    :return: np.array of shape (m, k) containing in cell (i, j): P(class=j|input i)\n",
    "    \"\"\"\n",
    "    assert can_multiply(X, theta)\n",
    "    z = X@theta\n",
    "    result = softmax(z)\n",
    "    return result"
   ]
  },
  {
   "cell_type": "markdown",
   "metadata": {},
   "source": [
    "Funcție de cost:\n",
    "$$\\Large J(\\Theta) = -\\frac{1}{m} \\Bigg[ \\sum_{j=1}^m \\sum_{l=1}^k I(y^{(j)} = l) \\cdot \\ln \\frac{\\exp(\\theta_l^t \\textbf{x}^{(j)})}{\\sum_{i=1}^k\\exp(\\theta_i^t \\textbf{x}^{(j)})} \\Bigg] + \\frac{\\lambda}{2m} \\sum_{l=1}^k \\sum_{i=1}^n \\theta_{li}^2$$\n",
    "unde $I(\\cdot)$ este funcția indicator:\n",
    "$$\\Large \\begin{equation}\n",
    "  I(valoare\\_logica)= \\left\\{\n",
    "  \\begin{array}{}\n",
    "    1, & \\text{dacă} \\ \\ valoare\\_logica = adevarat\\\\\n",
    "    0, & \\text{dacă} \\ \\ valoare\\_logica = fals\n",
    "  \\end{array}\\right.\n",
    "\\end{equation} \n",
    "$$"
   ]
  },
  {
   "cell_type": "code",
   "execution_count": 13,
   "metadata": {
    "ExecuteTime": {
     "end_time": "2020-03-16T15:27:03.577791Z",
     "start_time": "2020-03-16T15:27:03.564828Z"
    }
   },
   "outputs": [],
   "source": [
    "def J(X, y, num_classes, theta, _lambda):\n",
    "    \"\"\"Computes the error function for multinomial logisitc regression\n",
    "    :param X: np.array of shape (m, n)\n",
    "    :param y: np.array of shape (m, 1)\n",
    "    :param theta: np.array of shape (n, k) \n",
    "    :return: loss values, ocmposed of cross entropy + penalty term\n",
    "    \"\"\"\n",
    "    m = X.shape[0]\n",
    "    EPS = 1e-5\n",
    "    \n",
    "    # computes a one hot encoding for the griven classes:\n",
    "    # if y[i]=c, 0 <= c <= 9 (here), then line i in one_hot_encoding is filled\n",
    "    # in with 0, excepting column c where one can find value 1\n",
    "    one_hot_encoding = np.zeros((m, num_classes))\n",
    "    \n",
    "    # scrieti cod pentru a seta valori de 1 pe acele y[i]\n",
    "    one_hot_encoding[np.arange(one_hot_encoding.shape[0]), np.transpose(y)] = 1\n",
    "    \n",
    "    #..... cod vectorizat\n",
    "    \n",
    "    assert np.all(one_hot_encoding.sum(axis=1) == 1)\n",
    "    predicted = model(X, theta) # scrieti cod # shape (m, n)\n",
    "    predicted = np.clip(predicted, EPS, 1-EPS) # se evita valori care duc la log(0)\n",
    "    log_predicted = np.log(predicted)\n",
    "    # calcul suma pentru cross entropy # Hadamard product\n",
    "    temp = np.multiply(one_hot_encoding, log_predicted)\n",
    "    loss1 = -temp.sum() / m # calcul valoare medie a erorii\n",
    "    #loss2 = _lambda/(2*m) * (theta ** 2).sum() # calcul valoare de penalizare L2, aplicand si coeficientul _lambda\n",
    "    loss2 = 0\n",
    "    return loss1 + loss2"
   ]
  },
  {
   "cell_type": "markdown",
   "metadata": {},
   "source": [
    "Gradient:\n",
    "$$\\LARGE \\frac{\\partial J}{\\partial \\theta_k}(\\Theta) = -\\frac{1}{m}\\sum_{j=1}^m \\Big[  \\textbf{x}^{(j)} \\Big( I(y^{(j)} = k) - P(y^{(j)} = k | \\textbf{x}^{(j)}; \\Theta) \\Big) \\Big]+\\frac{\\lambda}{m} \\theta_k$$"
   ]
  },
  {
   "cell_type": "code",
   "execution_count": 14,
   "metadata": {
    "ExecuteTime": {
     "end_time": "2020-03-16T15:27:03.599736Z",
     "start_time": "2020-03-16T15:27:03.590756Z"
    }
   },
   "outputs": [],
   "source": [
    "def gradient(X, theta, y, num_classes, _lambda):\n",
    "    \"\"\"\n",
    "    :param X: np.array of shape (m, n)\n",
    "    :param theta: np.array of shape (n, k)\n",
    "    :param y: np.array of shape (m, 1)\n",
    "    :return: np.array of shape (n, k)\n",
    "    \"\"\"\n",
    "    \n",
    "    m, n = X.shape\n",
    "    # cateva linii vectorizate cu calcul de gradient\n",
    "    one_hot_encoding = np.zeros((m, num_classes))\n",
    "    one_hot_encoding[np.arange(one_hot_encoding.shape[0]), np.transpose(y)] = 1\n",
    "    \n",
    "    predicted = model(X, theta)\n",
    "    diff = np.subtract(one_hot_encoding, predicted)\n",
    "    grad = X.transpose()@diff\n",
    "    grad = -1/m * grad + (_lambda/m)*theta\n",
    "    assert grad.shape == theta.shape\n",
    "    return grad"
   ]
  },
  {
   "cell_type": "code",
   "execution_count": 15,
   "metadata": {
    "ExecuteTime": {
     "end_time": "2020-03-16T15:37:11.745324Z",
     "start_time": "2020-03-16T15:37:11.740308Z"
    }
   },
   "outputs": [],
   "source": [
    "def accuracy(X:np.array, y:np.array, theta:np.array) -> float:\n",
    "    \"\"\"Computes the accuracy on a given input dataset X, with ground truth y\n",
    "    :param X: np.array of shape (m, n)\n",
    "    :param y: np.array of shape (m, 1); each value is the index of a class\n",
    "    :param theta: np.array of shape (n, k) with weights\n",
    "    :return: ratio between correcly classified cases and total number of classes\n",
    "    \"\"\"\n",
    "    # scrieti cod pentru a calcula estimarea data de model; \n",
    "    #  pe fiecare linie i si coloana c a matricei de forma (m, k) \n",
    "    #  se regaseste probabilitatea conditionata ca intrarea i sa fie de clasa c\n",
    "    m = X.shape[0]\n",
    "    k = theta.shape[1]\n",
    "    y_hat = model(X, theta)\n",
    "    # cod pentru a determina care e clase de probabilitate conditionata maxima\n",
    "    \n",
    "    y_one_hot_encoded = np.zeros((m, k))\n",
    "    y_one_hot_encoded[np.arange(y_one_hot_encoded.shape[0]), np.transpose(y)] = 1\n",
    "    \n",
    "    y_predicted = np.zeros_like(y_hat)\n",
    "    y_predicted[np.arange(y_predicted.shape[0]), y_hat.argmax(axis=1)] = 1\n",
    "\n",
    "    return (np.logical_and(y_predicted == y_one_hot_encoded, y_one_hot_encoded == 1)).sum() / X.shape[0]"
   ]
  },
  {
   "cell_type": "markdown",
   "metadata": {},
   "source": [
    "# Train model"
   ]
  },
  {
   "cell_type": "code",
   "execution_count": 16,
   "metadata": {
    "ExecuteTime": {
     "end_time": "2020-03-16T15:27:03.638628Z",
     "start_time": "2020-03-16T15:27:03.617686Z"
    }
   },
   "outputs": [],
   "source": [
    "def train(X: np.array, y: np.array, num_classes, theta_init: np.array, _lambda: float, alpha: float, max_delta_error:float=1e-4) -> Tuple[np.array, List[float], List[float], List[float]]:\n",
    "    \"\"\"Runs the training on the training dataset (X, y). Stops when  \n",
    "    difference between  two succesive error values is lower than :param max_delta_error:\n",
    "    :param X: np.array of shape (m, n), with training cases. Each row is a traininv case\n",
    "    :param y: np.array of shape (m, 1), containing labels (0=class 0, ...)\n",
    "    :param theta_init: np.array of shape (n, k), initial weights\n",
    "    :param _lambda: coefficient >= for the L2 penalty term\n",
    "    :param num_classes: number of classes\n",
    "    :param alpha: > 0, learning rate\n",
    "    :max_delta_error: >0, a threshold for max absolute difference of succesive loss values\n",
    "    :return: a tuple consisting of: weight matrix, list of errors computed at each epoch, 2 lists of accuracies on training and on test set at each epoch\n",
    "    \"\"\"\n",
    "    theta = theta_init\n",
    "    errors = [J(X, y, num_classes, theta, _lambda)]\n",
    "    acc_train = [accuracy(X_train, y_train, theta)]\n",
    "    acc_test = [accuracy(X_test, y_test, theta)]\n",
    "    epoch = 0\n",
    "    while True:\n",
    "        epoch += 1\n",
    "        theta += -alpha * gradient(X=X, theta=theta, y=y, num_classes=num_classes, _lambda = _lambda)\n",
    "        error = J(X, y, num_classes, theta, _lambda)\n",
    "        errors.append(error)\n",
    "        train_acc = accuracy(X_train, y_train, theta)\n",
    "        acc_train.append(train_acc)\n",
    "        test_acc = accuracy(X_test, y_test, theta)\n",
    "        acc_test.append(test_acc)\n",
    "        if epoch % 10 == 0:\n",
    "            print(f'Epoch: {epoch}, error: {error}, train accuracy: {train_acc}, test accuracy: {test_acc}')\n",
    "        if np.abs(errors[-1] - errors[-2]) < max_delta_error:\n",
    "            break\n",
    "    return theta, errors, acc_train, acc_test"
   ]
  },
  {
   "cell_type": "code",
   "execution_count": 17,
   "metadata": {
    "ExecuteTime": {
     "end_time": "2020-03-16T15:29:22.830309Z",
     "start_time": "2020-03-16T15:27:03.640624Z"
    }
   },
   "outputs": [
    {
     "name": "stdout",
     "output_type": "stream",
     "text": [
      "Epoch: 10, error: 0.7814931363584073, train accuracy: 0.8392666666666667, test accuracy: 0.8471\n",
      "Epoch: 20, error: 0.6021322470229894, train accuracy: 0.8612833333333333, test accuracy: 0.8704\n",
      "Epoch: 30, error: 0.5287938215016824, train accuracy: 0.8706833333333334, test accuracy: 0.8795\n",
      "Epoch: 40, error: 0.4869374124042889, train accuracy: 0.8771166666666667, test accuracy: 0.8857\n",
      "Epoch: 50, error: 0.4591632140260326, train accuracy: 0.8817833333333334, test accuracy: 0.8894\n",
      "Epoch: 60, error: 0.43904763877793457, train accuracy: 0.8855333333333333, test accuracy: 0.8932\n",
      "Epoch: 70, error: 0.42362112368958776, train accuracy: 0.8885333333333333, test accuracy: 0.895\n",
      "Epoch: 80, error: 0.4112968132170996, train accuracy: 0.8907, test accuracy: 0.8988\n",
      "Epoch: 90, error: 0.40115474950336144, train accuracy: 0.8928166666666667, test accuracy: 0.8996\n",
      "Epoch: 100, error: 0.3926173921736266, train accuracy: 0.8946166666666666, test accuracy: 0.9012\n",
      "Epoch: 110, error: 0.38529860054990434, train accuracy: 0.8961, test accuracy: 0.9029\n",
      "Epoch: 120, error: 0.3789308846872087, train accuracy: 0.8975666666666666, test accuracy: 0.9037\n",
      "Epoch: 130, error: 0.3733223904671353, train accuracy: 0.8985666666666666, test accuracy: 0.9049\n",
      "Epoch: 140, error: 0.36832920695282145, train accuracy: 0.8997666666666667, test accuracy: 0.9062\n",
      "Epoch: 150, error: 0.3638466656404848, train accuracy: 0.9009166666666667, test accuracy: 0.9069\n",
      "Epoch: 160, error: 0.3597921061366228, train accuracy: 0.90165, test accuracy: 0.9076\n",
      "Epoch: 170, error: 0.35610048991151044, train accuracy: 0.9024166666666666, test accuracy: 0.908\n",
      "Epoch: 180, error: 0.35271988760614237, train accuracy: 0.903, test accuracy: 0.9089\n",
      "Epoch: 190, error: 0.34960826369039755, train accuracy: 0.9035833333333333, test accuracy: 0.9093\n",
      "Epoch: 200, error: 0.3467311747523115, train accuracy: 0.9042666666666667, test accuracy: 0.9096\n",
      "Epoch: 210, error: 0.3440600899325831, train accuracy: 0.905, test accuracy: 0.9104\n",
      "Epoch: 220, error: 0.3415711442101909, train accuracy: 0.9057, test accuracy: 0.9107\n",
      "Epoch: 230, error: 0.3392441986829142, train accuracy: 0.90615, test accuracy: 0.9113\n",
      "Epoch: 240, error: 0.3370621223251633, train accuracy: 0.9067, test accuracy: 0.9122\n",
      "Epoch: 250, error: 0.33501023616235204, train accuracy: 0.9072333333333333, test accuracy: 0.913\n",
      "Epoch: 260, error: 0.33307587812039624, train accuracy: 0.9077833333333334, test accuracy: 0.9134\n",
      "Epoch: 270, error: 0.33124805877655533, train accuracy: 0.90825, test accuracy: 0.9133\n",
      "Epoch: 280, error: 0.3295171863969577, train accuracy: 0.9087666666666666, test accuracy: 0.9136\n",
      "Epoch: 290, error: 0.3278748453612587, train accuracy: 0.9090666666666667, test accuracy: 0.9144\n",
      "Epoch: 300, error: 0.3263136161179404, train accuracy: 0.9096166666666666, test accuracy: 0.9144\n",
      "Epoch: 310, error: 0.32482692780993844, train accuracy: 0.91005, test accuracy: 0.915\n",
      "Epoch: 320, error: 0.3234084848552036, train accuracy: 0.9103833333333333, test accuracy: 0.915\n",
      "Epoch: 330, error: 0.3220518633704992, train accuracy: 0.9106166666666666, test accuracy: 0.9154\n",
      "Epoch: 340, error: 0.3207525853747899, train accuracy: 0.9107833333333333, test accuracy: 0.9153\n",
      "Epoch: 350, error: 0.31950712579768115, train accuracy: 0.9111333333333334, test accuracy: 0.9158\n",
      "Epoch: 360, error: 0.31831194651887634, train accuracy: 0.9115166666666666, test accuracy: 0.9158\n",
      "Epoch: 370, error: 0.3171633822517166, train accuracy: 0.9118, test accuracy: 0.9161\n",
      "Epoch: 380, error: 0.316059263451045, train accuracy: 0.9121333333333334, test accuracy: 0.9165\n",
      "Epoch: 390, error: 0.3149967469588599, train accuracy: 0.9123833333333333, test accuracy: 0.9165\n",
      "Epoch: 400, error: 0.3139732391278227, train accuracy: 0.91275, test accuracy: 0.9168\n"
     ]
    }
   ],
   "source": [
    "theta = np.zeros((n, k))\n",
    "\n",
    "\n",
    "theta, errors, acc_train, acc_test = train(X=X_train, y=y_train, num_classes = 10, theta_init=theta, _lambda=0.0, alpha=0.5)"
   ]
  },
  {
   "cell_type": "code",
   "execution_count": 18,
   "metadata": {
    "ExecuteTime": {
     "end_time": "2020-03-16T15:29:23.053713Z",
     "start_time": "2020-03-16T15:29:22.832306Z"
    }
   },
   "outputs": [
    {
     "data": {
      "image/png": "[encoded data removed]",
      "text/plain": [
       "<Figure size 720x576 with 1 Axes>"
      ]
     },
     "metadata": {
      "needs_background": "light"
     },
     "output_type": "display_data"
    }
   ],
   "source": [
    "plt.figure(figsize=(10, 8))\n",
    "plt.plot(errors)\n",
    "plt.xlabel('Epochs')\n",
    "plt.ylabel('Loss')\n",
    "plt.show()"
   ]
  },
  {
   "cell_type": "markdown",
   "metadata": {},
   "source": [
    "# Test model"
   ]
  },
  {
   "cell_type": "code",
   "execution_count": 19,
   "metadata": {
    "ExecuteTime": {
     "end_time": "2020-03-16T15:37:43.343843Z",
     "start_time": "2020-03-16T15:37:43.317921Z"
    }
   },
   "outputs": [],
   "source": [
    "# tipariti eroarea pe setul de testare"
   ]
  },
  {
   "cell_type": "code",
   "execution_count": 20,
   "metadata": {},
   "outputs": [
    {
     "name": "stdout",
     "output_type": "stream",
     "text": [
      "Test error: 0.30259032748461084\n"
     ]
    }
   ],
   "source": [
    "test_error = J(X_test, y_test, num_classes=10, theta=theta, _lambda=0.0)\n",
    "print(f'Test error: {test_error}')"
   ]
  }
 ],
 "metadata": {
  "kernelspec": {
   "display_name": "Python 3",
   "language": "python",
   "name": "python3"
  },
  "language_info": {
   "codemirror_mode": {
    "name": "ipython",
    "version": 3
   },
   "file_extension": ".py",
   "mimetype": "text/x-python",
   "name": "python",
   "nbconvert_exporter": "python",
   "pygments_lexer": "ipython3",
   "version": "3.7.6"
  },
  "latex_envs": {
   "LaTeX_envs_menu_present": true,
   "autoclose": false,
   "autocomplete": true,
   "bibliofile": "biblio.bib",
   "cite_by": "apalike",
   "current_citInitial": 1,
   "eqLabelWithNumbers": true,
   "eqNumInitial": 1,
   "hotkeys": {
    "equation": "Ctrl-E",
    "itemize": "Ctrl-I"
   },
   "labels_anchors": false,
   "latex_user_defs": false,
   "report_style_numbering": false,
   "user_envs_cfg": false
  },
  "notify_time": "5",
  "toc": {
   "base_numbering": 1,
   "nav_menu": {},
   "number_sections": true,
   "sideBar": true,
   "skip_h1_title": false,
   "title_cell": "Table of Contents",
   "title_sidebar": "Contents",
   "toc_cell": false,
   "toc_position": {},
   "toc_section_display": true,
   "toc_window_display": false
  },
  "varInspector": {
   "cols": {
    "lenName": 16,
    "lenType": 16,
    "lenVar": 40
   },
   "kernels_config": {
    "python": {
     "delete_cmd_postfix": "",
     "delete_cmd_prefix": "del ",
     "library": "var_list.py",
     "varRefreshCmd": "print(var_dic_list())"
    },
    "r": {
     "delete_cmd_postfix": ") ",
     "delete_cmd_prefix": "rm(",
     "library": "var_list.r",
     "varRefreshCmd": "cat(var_dic_list()) "
    }
   },
   "types_to_exclude": [
    "module",
    "function",
    "builtin_function_or_method",
    "instance",
    "_Feature"
   ],
   "window_display": false
  }
 },
 "nbformat": 4,
 "nbformat_minor": 4
}
