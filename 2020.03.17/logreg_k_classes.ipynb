{
 "cells": [
  {
   "cell_type": "markdown",
   "metadata": {},
   "source": [
    "# Regresia logistică multinomială\n",
    "Sîrbu Matei-Dan, _grupa 10LF383_"
   ]
  },
  {
   "cell_type": "markdown",
   "metadata": {},
   "source": [
    "# Load data, filtering"
   ]
  },
  {
   "cell_type": "code",
   "execution_count": 238,
   "metadata": {
    "ExecuteTime": {
     "end_time": "2020-03-16T15:26:59.104551Z",
     "start_time": "2020-03-16T15:26:58.253819Z"
    }
   },
   "outputs": [],
   "source": [
    "import numpy as np\n",
    "import pandas as pd\n",
    "import matplotlib.pyplot as plt\n",
    "\n",
    "from typing import Tuple, List"
   ]
  },
  {
   "cell_type": "code",
   "execution_count": 239,
   "metadata": {
    "ExecuteTime": {
     "end_time": "2020-03-16T15:26:59.115435Z",
     "start_time": "2020-03-16T15:26:59.108453Z"
    }
   },
   "outputs": [],
   "source": [
    "def load_file(path: str) -> Tuple[np.ndarray, np.ndarray]:\n",
    "    \"\"\"Loads the data from the file stored at :param path: and returns the \n",
    "    input values and the class labels.\n",
    "    :param path: path of a CVS file with data\n",
    "    :return: a tuple containing the input matrix of shape (m, n) and a column \n",
    "    vector with the m class labels in {0, ..., 9}\n",
    "    \"\"\"\n",
    "    # scrieti cod pentru citire de CSV\n",
    "    df = pd.read_csv(path, header=None)\n",
    "    X = df[df.columns[1:]]\n",
    "    y = df[df.columns[0]].to_frame()\n",
    "    assert X.ndim ==  2, 'Matrix required for input values'\n",
    "    assert y.ndim == 2, 'Column matrix required for labels'\n",
    "    assert y.shape == (X.shape[0], 1), 'Same number of lines is required'\n",
    "    return X, y"
   ]
  },
  {
   "cell_type": "code",
   "execution_count": 240,
   "metadata": {
    "ExecuteTime": {
     "end_time": "2020-03-16T15:26:59.125409Z",
     "start_time": "2020-03-16T15:26:59.117428Z"
    }
   },
   "outputs": [],
   "source": [
    "path_train = './data/mnist_train.csv'\n",
    "path_test = './data/mnist_test.csv'"
   ]
  },
  {
   "cell_type": "code",
   "execution_count": 241,
   "metadata": {
    "ExecuteTime": {
     "end_time": "2020-03-16T15:27:02.909312Z",
     "start_time": "2020-03-16T15:26:59.128400Z"
    }
   },
   "outputs": [],
   "source": [
    "X_train, y_train = load_file(path_train)\n",
    "assert X_train.shape == (60000, 784)\n",
    "assert y_train.shape == (60000, 1)\n",
    "\n",
    "X_test, y_test = load_file(path_test)\n",
    "assert X_test.shape == (10000, 784)\n",
    "assert y_test.shape == (10000, 1)"
   ]
  },
  {
   "cell_type": "code",
   "execution_count": 242,
   "metadata": {
    "ExecuteTime": {
     "end_time": "2020-03-16T15:27:02.918267Z",
     "start_time": "2020-03-16T15:27:02.911284Z"
    }
   },
   "outputs": [],
   "source": [
    "def scale_values(X: np.ndarray) -> np.ndarray:\n",
    "    \"\"\"Scales the values to range [0, 1].\n",
    "    :param X: an (m, n) matrix with values between 0 and 255.\n",
    "    :return: an (m, n) matrix containing values of :param X: scaled in [0, 1]\n",
    "    \"\"\"\n",
    "    # scrieti cod pentru scalare intre 0 si 1\n",
    "    result = np.array(X) / 255\n",
    "    assert 0 <= np.min(result) <= np.max(result) <= 1, 'Scaled values should be in [0, 1]'\n",
    "    assert X.shape == result.shape, 'Scaling preserves shape'\n",
    "    return result"
   ]
  },
  {
   "cell_type": "code",
   "execution_count": 243,
   "metadata": {
    "ExecuteTime": {
     "end_time": "2020-03-16T15:27:03.198600Z",
     "start_time": "2020-03-16T15:27:02.921254Z"
    }
   },
   "outputs": [],
   "source": [
    "X_train = scale_values(X_train)\n",
    "assert X_train.shape == (60000, 784)\n",
    "X_test = scale_values(X_test)\n",
    "assert X_test.shape == (10000, 784)"
   ]
  },
  {
   "cell_type": "code",
   "execution_count": 244,
   "metadata": {
    "ExecuteTime": {
     "end_time": "2020-03-16T15:27:03.208779Z",
     "start_time": "2020-03-16T15:27:03.200800Z"
    }
   },
   "outputs": [],
   "source": [
    "def augment_matrix(X: np.ndarray) -> np.ndarray:\n",
    "    \"\"\"Creates the design matrix: the original matrix with a prepended column \n",
    "    of 1.\n",
    "    :param X: an (m, n) matrix. Each row contains the pixels of a digit.\n",
    "    :return: an ndarray of shape (X.shape[0], X.shape[1]+1)\n",
    "    \"\"\"\n",
    "    m = X.shape[0]\n",
    "    result = np.hstack((np.ones(m).reshape(m, 1), X))\n",
    "    assert result.shape == (X.shape[0], X.shape[1] + 1)\n",
    "    assert np.alltrue(result[:, 0] == 1), 'The first column should be filled with 1'\n",
    "    return result"
   ]
  },
  {
   "cell_type": "code",
   "execution_count": 245,
   "metadata": {
    "ExecuteTime": {
     "end_time": "2020-03-16T15:27:03.503989Z",
     "start_time": "2020-03-16T15:27:03.212768Z"
    }
   },
   "outputs": [],
   "source": [
    "X_train = augment_matrix(X_train)\n",
    "X_test = augment_matrix(X_test)"
   ]
  },
  {
   "cell_type": "markdown",
   "metadata": {
    "ExecuteTime": {
     "end_time": "2019-11-24T15:41:07.997557Z",
     "start_time": "2019-11-24T15:41:07.991110Z"
    }
   },
   "source": [
    "# Create model"
   ]
  },
  {
   "cell_type": "markdown",
   "metadata": {},
   "source": [
    "$$\\large h_\\Theta = \\begin{pmatrix} P(y = 1|\\textbf{x};\\Theta) \\\\ P(y = 2|\\textbf{x};\\Theta) \\\\ . . . \\\\ P(y = K|\\textbf{x};\\Theta) \\end{pmatrix} = softmax \\begin{pmatrix} \\theta_1^t \\cdot \\textbf{x} \\\\ \\theta_2^t \\cdot \\textbf{x} \\\\ . . . \\\\ \\theta_K^t \\cdot \\textbf{x} \\end{pmatrix} $$<br>\n",
    "$$\\large \\textbf{z} = (z_1, ..., z_K)^t$$ <br>\n",
    "$$\\large softmax(\\textbf{z};l) = \\frac{\\exp(z_l)}{\\sum_{k=1}^K \\exp(z_k)}$$\n",
    "<p style=\"text-align: center;\">sau $\\large softmax(\\textbf{z}';l) = \\frac{\\exp(z_l - M)}{\\sum_{k=1}^K \\exp(z_k - M)}$</p>\n",
    "<p style=\"text-align: center;\">unde $k$ este numărul de clase; $ \\textbf{z}' = (z_1 - M, ..., z_K - M)^t$ și $M$ valoarea maximă din $(z_1, ..., z_K)^t$ </p>"
   ]
  },
  {
   "cell_type": "code",
   "execution_count": 246,
   "metadata": {
    "ExecuteTime": {
     "end_time": "2020-03-16T15:27:03.516959Z",
     "start_time": "2020-03-16T15:27:03.506981Z"
    }
   },
   "outputs": [],
   "source": [
    "k = 10 # number of classes\n",
    "m, n = X_train.shape # after augmentation"
   ]
  },
  {
   "cell_type": "code",
   "execution_count": 247,
   "metadata": {
    "ExecuteTime": {
     "end_time": "2020-03-16T15:27:03.530917Z",
     "start_time": "2020-03-16T15:27:03.521942Z"
    }
   },
   "outputs": [],
   "source": [
    "def softmax(z, axis=1):\n",
    "    \"\"\"Applies softmax to a matrix z.\n",
    "    :param z: np.array of shape (m, k)\n",
    "    :return: np.array of shape (m, k) containing in cell (i, j): P(class=j|input i)\n",
    "    \"\"\"\n",
    "    max_z = np.max(z, axis=axis, keepdims=True) # maximum on each row\n",
    "    # calcul de expnentiala; folosoti trucul dat in curs, utilizand max_z\n",
    "    exp_z = np.exp(z-max_z) # all numbers exponentiated\n",
    "    sum_exp_z = np.sum(np.exp(z-max_z), axis=axis, keepdims=True) # sum on each row\n",
    "    # scrieti cod; se face normalizarea valorilor; considerati ultimul asert\n",
    "    result = exp_z/sum_exp_z\n",
    "    assert exp_z.shape == z.shape\n",
    "    assert np.allclose(np.sum(result, axis=1), 1)\n",
    "    return result"
   ]
  },
  {
   "cell_type": "code",
   "execution_count": 248,
   "metadata": {
    "ExecuteTime": {
     "end_time": "2020-03-16T15:27:03.542885Z",
     "start_time": "2020-03-16T15:27:03.535908Z"
    }
   },
   "outputs": [],
   "source": [
    "def can_multiply(a, b):\n",
    "    return a.ndim == b.ndim == 2 and a.shape[1] == b.shape[0]"
   ]
  },
  {
   "cell_type": "code",
   "execution_count": 249,
   "metadata": {
    "ExecuteTime": {
     "end_time": "2020-03-16T15:27:03.552864Z",
     "start_time": "2020-03-16T15:27:03.544879Z"
    }
   },
   "outputs": [],
   "source": [
    "def model(X, theta):\n",
    "    \"\"\"\n",
    "    :param X: np.array of shape (m, n)\n",
    "    :param theta: np.array of shape (n, k)\n",
    "    :return: np.array of shape (m, k) containing in cell (i, j): P(class=j|input i)\n",
    "    \"\"\"\n",
    "    assert can_multiply(X, theta)\n",
    "    z = X@theta\n",
    "    result = softmax(z)\n",
    "    return result"
   ]
  },
  {
   "cell_type": "markdown",
   "metadata": {},
   "source": [
    "Funcție de cost:\n",
    "$$\\Large J(\\Theta) = -\\frac{1}{m} \\Bigg[ \\sum_{j=1}^m \\sum_{l=1}^k I(y^{(j)} = l) \\cdot \\ln \\frac{\\exp(\\theta_l^t \\textbf{x}^{(j)})}{\\sum_{i=1}^k\\exp(\\theta_i^t \\textbf{x}^{(j)})} \\Bigg] + \\frac{\\lambda}{2m} \\sum_{l=1}^k \\sum_{i=1}^n \\theta_{li}^2$$\n",
    "unde $I(\\cdot)$ este funcția indicator:\n",
    "$$\\Large \\begin{equation}\n",
    "  I(valoare\\_logica)= \\left\\{\n",
    "  \\begin{array}{}\n",
    "    1, & \\text{dacă} \\ \\ valoare\\_logica = adevarat\\\\\n",
    "    0, & \\text{dacă} \\ \\ valoare\\_logica = fals\n",
    "  \\end{array}\\right.\n",
    "\\end{equation} \n",
    "$$"
   ]
  },
  {
   "cell_type": "code",
   "execution_count": 250,
   "metadata": {
    "ExecuteTime": {
     "end_time": "2020-03-16T15:27:03.577791Z",
     "start_time": "2020-03-16T15:27:03.564828Z"
    }
   },
   "outputs": [],
   "source": [
    "def J(X, y, num_classes, theta, _lambda):\n",
    "    \"\"\"Computes the error function for multinomial logisitc regression\n",
    "    :param X: np.array of shape (m, n)\n",
    "    :param y: np.array of shape (m, 1)\n",
    "    :param theta: np.array of shape (n, k) \n",
    "    :return: loss values, ocmposed of cross entropy + penalty term\n",
    "    \"\"\"\n",
    "    m = X.shape[0]\n",
    "    EPS = 1e-5\n",
    "    \n",
    "    # computes a one hot encoding for the griven classes:\n",
    "    # if y[i]=c, 0 <= c <= 9 (here), then line i in one_hot_encoding is filled\n",
    "    # in with 0, excepting column c where one can find value 1\n",
    "    one_hot_encoding = np.zeros((m, num_classes))\n",
    "    \n",
    "    # scrieti cod pentru a seta valori de 1 pe acele y[i]\n",
    "    one_hot_encoding[np.arange(one_hot_encoding.shape[0]), np.transpose(y)] = 1\n",
    "    \n",
    "    #..... cod vectorizat\n",
    "    \n",
    "    assert np.all(one_hot_encoding.sum(axis=1) == 1)\n",
    "    predicted = model(X, theta) # scrieti cod # shape (m, n)\n",
    "    predicted = np.clip(predicted, EPS, 1-EPS) # se evita valori care duc la log(0)\n",
    "    log_predicted = np.log(predicted)\n",
    "    # calcul suma pentru cross entropy # Hadamard product\n",
    "    temp = np.multiply(one_hot_encoding, log_predicted)\n",
    "    loss1 = -temp.sum() / m # calcul valoare medie a erorii\n",
    "    loss2 = _lambda/2 * (theta ** 2).sum() # calcul valoare de penalizare L2, aplicand si coeficientul _lambda\n",
    "    return loss1 + loss2"
   ]
  },
  {
   "cell_type": "markdown",
   "metadata": {},
   "source": [
    "Gradient:\n",
    "$$\\LARGE \\frac{\\partial J}{\\partial \\theta_k}(\\Theta) = -\\frac{1}{m}\\sum_{j=1}^m \\Big[  \\textbf{x}^{(j)} \\Big( I(y^{(j)} = k) - P(y^{(j)} = k | \\textbf{x}^{(j)}; \\Theta) \\Big) \\Big]+\\frac{\\lambda}{m} \\theta_k$$"
   ]
  },
  {
   "cell_type": "code",
   "execution_count": 251,
   "metadata": {
    "ExecuteTime": {
     "end_time": "2020-03-16T15:27:03.599736Z",
     "start_time": "2020-03-16T15:27:03.590756Z"
    }
   },
   "outputs": [],
   "source": [
    "def gradient(X, theta, y, num_classes, _lambda):\n",
    "    \"\"\"\n",
    "    :param X: np.array of shape (m, n)\n",
    "    :param theta: np.array of shape (n, k)\n",
    "    :param y: np.array of shape (m, 1)\n",
    "    :return: np.array of shape (n, k)\n",
    "    \"\"\"\n",
    "    \n",
    "    m, n = X.shape\n",
    "    # cateva linii vectorizate cu calcul de gradient\n",
    "    one_hot_encoding = np.zeros((m, num_classes))\n",
    "    one_hot_encoding[np.arange(one_hot_encoding.shape[0]), np.transpose(y)] = 1\n",
    "    \n",
    "    y_hat = model(X, theta)\n",
    "    diff = np.subtract(one_hot_encoding, y_hat)\n",
    "    \n",
    "    grad = np.vstack([ np.sum(X * np.vstack(diff[:, k]), axis=0) for k in range(num_classes)])\n",
    "    grad = grad.transpose()\n",
    "    grad = 1/m * grad + (_lambda/m)*theta\n",
    "    \n",
    "    assert grad.shape == theta.shape\n",
    "    \n",
    "    return grad"
   ]
  },
  {
   "cell_type": "code",
   "execution_count": 252,
   "metadata": {
    "ExecuteTime": {
     "end_time": "2020-03-16T15:37:11.745324Z",
     "start_time": "2020-03-16T15:37:11.740308Z"
    }
   },
   "outputs": [],
   "source": [
    "def accuracy(X:np.array, y:np.array, theta:np.array) -> float:\n",
    "    \"\"\"Computes the accuracy on a given input dataset X, with ground truth y\n",
    "    :param X: np.array of shape (m, n)\n",
    "    :param y: np.array of shape (m, 1); each value is the index of a class\n",
    "    :param theta: np.array of shape (n, k) with weights\n",
    "    :return: ratio between correcly classified cases and total number of classes\n",
    "    \"\"\"\n",
    "    # scrieti cod pentru a calcula estimarea data de model; \n",
    "    #  pe fiecare linie i si coloana c a matricei de forma (m, k) \n",
    "    #  se regaseste probabilitatea conditionata ca intrarea i sa fie de clasa c\n",
    "    m = X.shape[0]\n",
    "    k = theta.shape[1]\n",
    "    y_hat = model(X, theta)\n",
    "    # cod pentru a determina care e clase de probabilitate conditionata maxima\n",
    "    threshold = 1 / k\n",
    "    y_predicted = y_hat >= threshold\n",
    "    one_hot_encoding = np.zeros((m, k))\n",
    "    one_hot_encoding[np.arange(one_hot_encoding.shape[0]), np.transpose(y)] = 1\n",
    "    y = one_hot_encoding\n",
    "    return (y_predicted == y).sum() / X.shape[0]"
   ]
  },
  {
   "cell_type": "markdown",
   "metadata": {},
   "source": [
    "# Train model"
   ]
  },
  {
   "cell_type": "code",
   "execution_count": 253,
   "metadata": {
    "ExecuteTime": {
     "end_time": "2020-03-16T15:27:03.638628Z",
     "start_time": "2020-03-16T15:27:03.617686Z"
    }
   },
   "outputs": [],
   "source": [
    "def train(X: np.array, y: np.array, num_classes, theta_init: np.array, _lambda: float, alpha: float, max_delta_error:float=1e-4) -> Tuple[np.array, List[float], List[float], List[float]]:\n",
    "    \"\"\"Runs the training on the training dataset (X, y). Stops when  \n",
    "    difference between  two succesive error values is lower than :param max_delta_error:\n",
    "    :param X: np.array of shape (m, n), with training cases. Each row is a traininv case\n",
    "    :param y: np.array of shape (m, 1), containing labels (0=class 0, ...)\n",
    "    :param theta_init: np.array of shape (n, k), initial weights\n",
    "    :param _lambda: coefficient >= for the L2 penalty term\n",
    "    :param num_classes: number of classes\n",
    "    :param alpha: > 0, learning rate\n",
    "    :max_delta_error: >0, a threshold for max absolute difference of succesive loss values\n",
    "    :return: a tuple consisting of: weight matrix, list of errors computed at each epoch, 2 lists of accuracies on training and on test set at each epoch\n",
    "    \"\"\"\n",
    "    theta = theta_init\n",
    "    errors = [J(X, y, num_classes, theta, _lambda)]\n",
    "    acc_train = [accuracy(X_train, y_train, theta)]\n",
    "    acc_test = [accuracy(X_test, y_test, theta)]\n",
    "    epoch = 0\n",
    "    while True:\n",
    "        epoch += 1\n",
    "        theta += -alpha * gradient(X=X, theta=theta, y=y, num_classes=num_classes, _lambda = _lambda)\n",
    "        error = J(X, y, num_classes, theta, _lambda)\n",
    "        print(\"ERROR \", epoch, \" \", error)\n",
    "        errors.append(error)\n",
    "        train_acc = accuracy(X_train, y_train, theta)\n",
    "        acc_train.append(train_acc)\n",
    "        test_acc = accuracy(X_test, y_test, theta)\n",
    "        acc_test.append(test_acc)\n",
    "        if epoch % 10 == 0:\n",
    "            print(f'Epoch: {epoch}, error: {error}, train accuracy: {train_acc}, test accuracy: {test_acc}')\n",
    "        if np.abs(errors[-1] - errors[-2]) < max_delta_error:\n",
    "            break\n",
    "    return theta, errors, acc_train, acc_test"
   ]
  },
  {
   "cell_type": "code",
   "execution_count": 254,
   "metadata": {
    "ExecuteTime": {
     "end_time": "2020-03-16T15:29:22.830309Z",
     "start_time": "2020-03-16T15:27:03.640624Z"
    }
   },
   "outputs": [
    {
     "name": "stdout",
     "output_type": "stream",
     "text": [
      "ERROR  1   2.907863414957888\n",
      "ERROR  2   4.183377022009991\n",
      "ERROR  3   9.257255362239354\n",
      "ERROR  4   10.215982818216586\n",
      "ERROR  5   10.219256117097297\n",
      "ERROR  6   10.219257530562025\n"
     ]
    }
   ],
   "source": [
    "theta = np.zeros((n, k))\n",
    "\n",
    "\n",
    "theta, errors, acc_train, acc_test = train(X=X_train, y=y_train, num_classes = 10, theta_init=theta, _lambda=0.0, alpha=0.5)"
   ]
  },
  {
   "cell_type": "code",
   "execution_count": 220,
   "metadata": {
    "ExecuteTime": {
     "end_time": "2020-03-16T15:29:23.053713Z",
     "start_time": "2020-03-16T15:29:22.832306Z"
    }
   },
   "outputs": [
    {
     "data": {
      "image/png": "[encoded data removed]",
      "text/plain": [
       "<Figure size 720x576 with 1 Axes>"
      ]
     },
     "metadata": {
      "needs_background": "light"
     },
     "output_type": "display_data"
    }
   ],
   "source": [
    "plt.figure(figsize=(10, 8))\n",
    "plt.plot(errors)\n",
    "plt.xlabel('Epochs')\n",
    "plt.ylabel('Loss')\n",
    "plt.show()"
   ]
  },
  {
   "cell_type": "markdown",
   "metadata": {},
   "source": [
    "# Test model"
   ]
  },
  {
   "cell_type": "code",
   "execution_count": null,
   "metadata": {
    "ExecuteTime": {
     "end_time": "2020-03-16T15:37:43.343843Z",
     "start_time": "2020-03-16T15:37:43.317921Z"
    }
   },
   "outputs": [],
   "source": [
    "# tipariti eroarea pe setul de testare"
   ]
  },
  {
   "cell_type": "code",
   "execution_count": null,
   "metadata": {},
   "outputs": [],
   "source": []
  }
 ],
 "metadata": {
  "kernelspec": {
   "display_name": "Python 3",
   "language": "python",
   "name": "python3"
  },
  "language_info": {
   "codemirror_mode": {
    "name": "ipython",
    "version": 3
   },
   "file_extension": ".py",
   "mimetype": "text/x-python",
   "name": "python",
   "nbconvert_exporter": "python",
   "pygments_lexer": "ipython3",
   "version": "3.7.6"
  },
  "latex_envs": {
   "LaTeX_envs_menu_present": true,
   "autoclose": false,
   "autocomplete": true,
   "bibliofile": "biblio.bib",
   "cite_by": "apalike",
   "current_citInitial": 1,
   "eqLabelWithNumbers": true,
   "eqNumInitial": 1,
   "hotkeys": {
    "equation": "Ctrl-E",
    "itemize": "Ctrl-I"
   },
   "labels_anchors": false,
   "latex_user_defs": false,
   "report_style_numbering": false,
   "user_envs_cfg": false
  },
  "notify_time": "5",
  "toc": {
   "base_numbering": 1,
   "nav_menu": {},
   "number_sections": true,
   "sideBar": true,
   "skip_h1_title": false,
   "title_cell": "Table of Contents",
   "title_sidebar": "Contents",
   "toc_cell": false,
   "toc_position": {},
   "toc_section_display": true,
   "toc_window_display": false
  },
  "varInspector": {
   "cols": {
    "lenName": 16,
    "lenType": 16,
    "lenVar": 40
   },
   "kernels_config": {
    "python": {
     "delete_cmd_postfix": "",
     "delete_cmd_prefix": "del ",
     "library": "var_list.py",
     "varRefreshCmd": "print(var_dic_list())"
    },
    "r": {
     "delete_cmd_postfix": ") ",
     "delete_cmd_prefix": "rm(",
     "library": "var_list.r",
     "varRefreshCmd": "cat(var_dic_list()) "
    }
   },
   "types_to_exclude": [
    "module",
    "function",
    "builtin_function_or_method",
    "instance",
    "_Feature"
   ],
   "window_display": false
  }
 },
 "nbformat": 4,
 "nbformat_minor": 4
}
