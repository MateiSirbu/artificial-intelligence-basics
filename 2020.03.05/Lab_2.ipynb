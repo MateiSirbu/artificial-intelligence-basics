{
 "cells": [
  {
   "cell_type": "code",
   "execution_count": 140,
   "metadata": {
    "ExecuteTime": {
     "end_time": "2020-03-14T00:02:57.462473Z",
     "start_time": "2020-03-14T00:02:57.459337Z"
    }
   },
   "outputs": [],
   "source": [
    "import numpy as np\n",
    "import pandas as pd\n",
    "from typing import Tuple, List"
   ]
  },
  {
   "cell_type": "markdown",
   "metadata": {},
   "source": [
    "## Data reading"
   ]
  },
  {
   "cell_type": "code",
   "execution_count": 141,
   "metadata": {
    "ExecuteTime": {
     "end_time": "2020-03-14T00:02:58.271047Z",
     "start_time": "2020-03-14T00:02:58.226282Z"
    }
   },
   "outputs": [],
   "source": [
    "# incarcarea datelor\n",
    "\n",
    "# data source: http://archive.ics.uci.edu/ml/datasets/Condition+Based+Maintenance+of+Naval+Propulsion+Plants\n",
    "file = 'data.txt'\n",
    "data_df = pd.read_csv(file, sep=r'\\s+', header=None)\n",
    "data = data_df.values"
   ]
  },
  {
   "cell_type": "code",
   "execution_count": 142,
   "metadata": {
    "ExecuteTime": {
     "end_time": "2020-03-14T00:02:58.679060Z",
     "start_time": "2020-03-14T00:02:58.671491Z"
    }
   },
   "outputs": [
    {
     "name": "stdout",
     "output_type": "stream",
     "text": [
      "First row:  [1.138000e+00 3.000000e+00 2.899640e+02 1.349489e+03 6.677380e+03\n",
      " 7.584000e+00 7.584000e+00 4.640060e+02 2.880000e+02 5.505630e+02\n",
      " 1.096000e+00 9.980000e-01 5.947000e+00 1.019000e+00 7.137000e+00\n",
      " 8.200000e-02 9.750000e-01]\n"
     ]
    }
   ],
   "source": [
    "# se sterge penultima coloana\n",
    "\n",
    "data1 = data[:, :-2]\n",
    "data2 = data[:, -1].reshape((11934, 1))\n",
    "data = np.c_[data1, data2]\n",
    "print(\"First row: \", data[0, :])\n",
    "assert data.shape == (11934, 17)"
   ]
  },
  {
   "cell_type": "markdown",
   "metadata": {},
   "source": [
    "## Input processing"
   ]
  },
  {
   "cell_type": "code",
   "execution_count": 143,
   "metadata": {
    "ExecuteTime": {
     "end_time": "2020-03-14T00:02:59.657890Z",
     "start_time": "2020-03-14T00:02:59.651911Z"
    }
   },
   "outputs": [],
   "source": [
    "# Functie pentru separarea datelor de intrare de cele de iesire\n",
    "\n",
    "def get_input_output(mat: np.array) -> Tuple[np.array, np.array]:\n",
    "    \"\"\"Separa partea de intrare (variabile independente) de cea de iesire \n",
    "    (variabila dependenta).\n",
    "    \n",
    "    :param mat: np.array de forma (m, n). Fiecare linie este un caz \n",
    "    inregistrat, adica un vector de intrare. Primele n-1 coloane sunt valori \n",
    "    de intrare in model, ultima coloana este valoarea de iesire asociata \n",
    "    (ground truth).\n",
    "    \n",
    "    :return: un tuplu cu: matrice de (m, n-1) continand intrarile \n",
    "    (o linie = un vector de intrare); un vector coloana cu m linii continand\n",
    "    valorile de iesire asociate intrarilor.\n",
    "    \"\"\"\n",
    "    m, n = mat.shape\n",
    "    X = mat[:, :-1]\n",
    "    y = mat[:, -1].reshape(-1, 1)\n",
    "    assert np.alltrue(X == mat[:, :-1])\n",
    "    assert np.alltrue(y[:, -1] == mat[:, -1])\n",
    "    return X, y"
   ]
  },
  {
   "cell_type": "code",
   "execution_count": 144,
   "metadata": {
    "ExecuteTime": {
     "end_time": "2020-03-14T00:03:00.220779Z",
     "start_time": "2020-03-14T00:03:00.217008Z"
    }
   },
   "outputs": [],
   "source": [
    "# separa matricea cu vectorii de intrare si vectorul coloana cu iesirile asociate\n",
    "\n",
    "X, y = get_input_output(data)"
   ]
  },
  {
   "cell_type": "code",
   "execution_count": 145,
   "metadata": {
    "ExecuteTime": {
     "end_time": "2020-03-14T00:03:00.775951Z",
     "start_time": "2020-03-14T00:03:00.767236Z"
    }
   },
   "outputs": [],
   "source": [
    "# Functie pentru scalarea datelor in intervalul [0, 1]. \n",
    "# Scalele se calculeaza pe baza datelor furnizate\n",
    "\n",
    "def scale_matrix(mat: np.array) -> np.array:\n",
    "    \"\"\"Preia o matrice cu valori reale si scaleaza toate coloanele in \n",
    "    intervalul [0, 1]. Coloanele constante vor fi transformate in 1.\n",
    "    \n",
    "    :param mat: matrice de forma (m, n)\n",
    "    :return: matrice cu valori scalate in [0, 1]\n",
    "    \"\"\"\n",
    "    \n",
    "    # calculeaza pe ce indecsi minimele si maximele difera. \n",
    "    # Doar pe acestea se va face scalare. Coloanele pentru care minimele si \n",
    "    # maximele sunt egale au valori constante si vor fi umplute automat cu 1.\n",
    "    \n",
    "    # min_cols, max_cols = [mat[:,col].min() for col in range(0, np.size(mat,1))], [mat[:,col].max() for col in range(0, np.size(mat,1))]\n",
    "    min_cols, max_cols = np.min(mat, axis=0), np.max(mat, axis=0)\n",
    "    different_min_max = [col for col in range(0, np.size(mat,1)) if min_cols[col] != max_cols[col]]\n",
    "    result = np.ones_like(mat)\n",
    "    result[:, different_min_max] = [[(mat[i,j] - min_cols[j])/(max_cols[j] - min_cols[j]) for j in different_min_max] for i in range(0, np.size(mat, 0))]\n",
    "    result.reshape(mat.shape)\n",
    "    assert np.alltrue(np.min(result, axis=0) >= 0)\n",
    "    assert np.alltrue(np.max(result, axis=0) <= 1)\n",
    "    return result, min_cols, max_cols"
   ]
  },
  {
   "cell_type": "code",
   "execution_count": 146,
   "metadata": {
    "ExecuteTime": {
     "end_time": "2020-03-14T00:03:01.323408Z",
     "start_time": "2020-03-14T00:03:01.316198Z"
    }
   },
   "outputs": [],
   "source": [
    "# Functie pentru scalarea datelor. \n",
    "# Scalele sunt furnizate, de regula calculate pe baza datelor din setul \n",
    "# de antrenare\n",
    "\n",
    "def scale_matrix_with_known_minmax(mat: np.array, min_cols: np.array, max_cols: np.array) -> np.array:\n",
    "    \"\"\"Preia o matrice  :param mat: si efectueaza scalarea valorilor in \n",
    "    intervalul [0, 1] folosind valori de min si max pe fiecare coloana \n",
    "    precalculate si date prin parametrii :param min_cols:, :param max_cols:.\n",
    "    \n",
    "    :param mat: matricea de (m, n) care trebuie scalata.\n",
    "    :param min_cols: minime pe coloane, precalculate\n",
    "    :param max_cols: maxime pe coloane, precalculate\n",
    "    :return: matrice de (m, n) cu valori scalate.\n",
    "    \"\"\"\n",
    "    # calculeaza pe ce indecsi minimele si maximele difera. \n",
    "    # Doar pe acestea se va face scalare. Coloanele pentru care minimele si \n",
    "    # maximele sunt egale au valori constante si vor fi umplute automat cu 1.\n",
    "    \n",
    "    different_min_max = [col for col in range(0, np.size(mat,1)) if min_cols[col] != max_cols[col]]\n",
    "    result = np.ones_like(mat)\n",
    "    result[:, different_min_max] = [[(mat[i,j] - min_cols[j])/(max_cols[j] - min_cols[j]) for j in different_min_max] for i in range(0, np.size(mat, 0))]\n",
    "    assert result.shape == mat.shape\n",
    "    return result"
   ]
  },
  {
   "cell_type": "code",
   "execution_count": 147,
   "metadata": {
    "ExecuteTime": {
     "end_time": "2020-03-14T00:03:02.087279Z",
     "start_time": "2020-03-14T00:03:01.892352Z"
    }
   },
   "outputs": [],
   "source": [
    "# scaleaza matricele\n",
    "\n",
    "X, min_cols, max_cols = scale_matrix(X)\n",
    "y, _, _ = scale_matrix(y)"
   ]
  },
  {
   "cell_type": "code",
   "execution_count": 148,
   "metadata": {
    "ExecuteTime": {
     "end_time": "2020-03-14T00:03:02.440317Z",
     "start_time": "2020-03-14T00:03:02.435487Z"
    }
   },
   "outputs": [],
   "source": [
    "# calculeaza matricea de design: coloana de 1 adaugata in fata datelor originare\n",
    "\n",
    "def design_matrix(mat: np.array) -> np.array:\n",
    "    \"\"\"Preia o matrice de forma (m, n) si returneaza o matrice de forma \n",
    "    (m, n+1), in care prima coloana este 1, iar ultimele n coloane sunt \n",
    "    coloanele lui :param mat:.\n",
    "    \n",
    "    :param mat: matrice de forma (m, n)\n",
    "    :return: matrice de forma (m, n+1), cu prima coloana plina cu 1, ultimele \n",
    "    n coloane sunt cele din :param mat:\n",
    "    \"\"\"\n",
    "    m, n = mat.shape\n",
    "    result = np.hstack((np.ones(m).reshape(m, 1), mat))\n",
    "    assert result.shape == (m, n+1)\n",
    "    assert np.alltrue(result[:, 0] == 1)\n",
    "    assert np.alltrue(result[:, 1:] == mat)\n",
    "    return result"
   ]
  },
  {
   "cell_type": "code",
   "execution_count": 149,
   "metadata": {
    "ExecuteTime": {
     "end_time": "2020-03-14T00:03:03.023801Z",
     "start_time": "2020-03-14T00:03:03.019317Z"
    }
   },
   "outputs": [],
   "source": [
    "# calculeaza matricea de design: vechea matrice la care se adauga pe prima\n",
    "# pozitie coloana cu 1\n",
    "X = design_matrix(X)"
   ]
  },
  {
   "cell_type": "markdown",
   "metadata": {},
   "source": [
    "## Linear regression with stochastic gradient descent"
   ]
  },
  {
   "cell_type": "markdown",
   "metadata": {},
   "source": [
    "### Model implementation"
   ]
  },
  {
   "cell_type": "code",
   "execution_count": 150,
   "metadata": {
    "ExecuteTime": {
     "end_time": "2020-03-14T10:24:59.507891Z",
     "start_time": "2020-03-14T10:24:59.501348Z"
    }
   },
   "outputs": [],
   "source": [
    "# Functie care implementeaza modelul de regresie liniara\n",
    "\n",
    "def h(X: np.array, w: np.array) -> np.array:\n",
    "    \"\"\"Pentru un model liniar specificat prin parametrii w si un set de date \n",
    "    de intrare X produce valorile estimate de model: \n",
    "    y_hat[i] = X[i, 0] * w[0] + X[i, 1] * w[1] + ...  \n",
    "   \n",
    "   :param X: valori de intrare, structurate ca np.array de forma (m, n)\n",
    "   :param w: vector de ponderi, de forma (n, 1)\n",
    "   :return: vector cu valori de iesire estimate, de forma (n, 1). \n",
    "    \"\"\"\n",
    "    assert w.shape == (X.shape[1], 1)\n",
    "    assert X.shape[1] == w.shape[0]\n",
    "    y_hat = np.vstack(np.array([np.sum(np.multiply(X[i], np.hstack(w))) for i in range(0, X.shape[0])]))\n",
    "    assert y_hat.shape == (X.shape[0], 1)\n",
    "    return y_hat"
   ]
  },
  {
   "cell_type": "markdown",
   "metadata": {},
   "source": [
    "### MSE function\n",
    "$$MSE = \\frac{1}{n} \\sum_{i=1}^n (y^{(i)} - \\hat{y}^{(i)})^2$$\n",
    "unde $$\\hat{y} = h_{\\theta}(x)$$"
   ]
  },
  {
   "cell_type": "code",
   "execution_count": 173,
   "metadata": {
    "ExecuteTime": {
     "end_time": "2020-03-14T10:25:00.330619Z",
     "start_time": "2020-03-14T10:25:00.326100Z"
    }
   },
   "outputs": [],
   "source": [
    "# Implementare de eroare patratica medie\n",
    "\n",
    "def mean_squared_error(y: np.array, y_hat: np.array) -> float:\n",
    "    \"\"\"Functie de eroare patratica medie.\n",
    "    \n",
    "    :param y: vector coloana de m elemente, continand valorile de iesire reale \n",
    "    (ground truth)\n",
    "    :param y_hat': vector coloana de m elemente, continand valorile de iesire\n",
    "    estimate.\n",
    "    :return: eroarea patratica medie.\n",
    "    \"\"\"\n",
    "    n = y.shape[0]\n",
    "    result = 1/n * ((np.subtract(y, y_hat)**2).sum())\n",
    "    return result"
   ]
  },
  {
   "cell_type": "markdown",
   "metadata": {},
   "source": [
    "### Cost function\n",
    "Look up: L2 regularisation\n",
    "https://stats.stackexchange.com/questions/287920/regularisation-why-multiply-by-1-2m <br>\n",
    "$\\large J^+(\\theta) = J(\\theta) + \\frac{\\lambda}{2m} \\sum_{j=1}^{n} \\theta_j^2$ <br>\n",
    "unde J: <br>\n",
    "$\\large J(\\theta) = J(\\theta_0, \\theta_1) = \\frac{1}{2m} \\sum_{i=1}^{m} ((h_{\\theta}(x^{(i)}) - y^{(i)})^2)$ <br>\n",
    "_Documentație curs: pagina 21_"
   ]
  },
  {
   "cell_type": "code",
   "execution_count": 167,
   "metadata": {
    "ExecuteTime": {
     "end_time": "2020-03-14T10:25:00.581038Z",
     "start_time": "2020-03-14T10:25:00.574217Z"
    }
   },
   "outputs": [],
   "source": [
    "# Functia de eroare\n",
    "\n",
    "def J(X:np.array, w:np.array, y:np.array, lmbda: float = 0) -> float:\n",
    "    \"\"\"Calculeaza valoarea functiei de eroare pentru intrarea curenta :param X:, \n",
    "    estimarea produsa de model folosind ponderile :param w: si iesirea corecta\n",
    "    :param y: (ground truth).\n",
    "    \n",
    "    :param X: matrice de valori de intrare pentru care modelul de regresie \n",
    "    liniara produce estimari. Are forma (m, n)\n",
    "    :param w: vector coloana de ponderi, definind coeficientii modelului de \n",
    "    regresie liniara. Are forma (n, 1).\n",
    "    :param y: vector coloana de valori de iesire cunoscute (ground truth). \n",
    "    Are forma (n, 1).\n",
    "    :param lmda: coeficientul de penalizare L2\n",
    "    :return: jumatate din mean squared error plus penalizarea L2\n",
    "    \"\"\"\n",
    "    \n",
    "    assert w.shape == (X.shape[1], 1)\n",
    "    assert y.shape == (X.shape[0], 1)\n",
    "    assert lmbda >= 0\n",
    "    m = X.shape[0]\n",
    "    y_hat = np.vstack(np.array([np.sum(np.multiply(X[i], np.hstack(w))) for i in range(0, X.shape[0])]))\n",
    "    assert y_hat.shape == (X.shape[0], 1)\n",
    "    term_squared_error = 1/(2*m) * np.sum(np.subtract(y_hat, y)**2)\n",
    "    l2_error = lmbda/(2*m) * np.sum(w**2)\n",
    "    return term_squared_error + l2_error "
   ]
  },
  {
   "cell_type": "markdown",
   "metadata": {
    "ExecuteTime": {
     "end_time": "2020-02-29T17:01:38.997750Z",
     "start_time": "2020-02-29T17:01:38.989771Z"
    }
   },
   "source": [
    "### Stochastic gradient descent implementation"
   ]
  },
  {
   "cell_type": "markdown",
   "metadata": {},
   "source": [
    "Vector de gradienți (derivate parțiale): $\\large \\nabla_{\\theta}J = \\begin{pmatrix} \\frac{\\partial{J}}{\\partial{\\theta_0}} \\\\ \\frac{\\partial{J}}{\\partial{\\theta_1}} \\end{pmatrix}$ \n",
    ", unde $\\large \\frac{\\partial{J}}{\\partial{\\theta_j}} = \\frac{1}{m} \\sum_{i=1}^{m} [(h_\\theta(x^{(i)}) - y^{(i)}) \\cdot x_j^{(i)}]$ <br>\n",
    "Gradient cu penalizare L2: $\\large \\frac{\\partial{J}}{\\partial{\\theta_j}} = \\frac{1}{m} \\sum_{i=1}^{m} [(h_\\theta(x^{(i)}) - y^{(i)}) \\cdot x_j^{(i)}] + \\frac{\\lambda}{m} \\theta_{j} \\ \\ \\ \\text{pentru } j \\geq 1$\n",
    "($\\frac{\\partial{J}}{\\partial{\\theta_0}}$ nu are penalizare L2)<br>\n",
    "(Documentație: http://pingax.com/regularization-implementation-r/)<br><br>\n",
    "Algoritm:  <br>\n",
    "`Repeat {` <br>\n",
    "$\\large \\theta_0 := \\theta_0 - \\alpha \\frac{1}{m} \\sum_{i=1}^m (h_\\theta(x^{(i)}) - y^{(i)})x_0^{(i)}$ <br>\n",
    "$\\large \\theta_j := \\theta_j - \\alpha [(\\frac{1}{m} \\sum_{i=1}^m (h_\\theta(x^{(i)}) - y^{(i)})x_j^{(i)}) + \\frac{\\lambda}{m} \\theta_j] \\ \\ \\ \\ j \\in \\{1, 2, ..., n\\}$ <br>\n",
    "`}`  <br>\n",
    "(Documentație: https://stats.stackexchange.com/questions/111388/derivation-of-regularized-linear-regression-cost-function-per-coursera-machine-l)"
   ]
  },
  {
   "cell_type": "code",
   "execution_count": 168,
   "metadata": {
    "ExecuteTime": {
     "end_time": "2020-03-14T10:25:01.636726Z",
     "start_time": "2020-03-14T10:25:01.627987Z"
    }
   },
   "outputs": [],
   "source": [
    "# Calcul de gradient. gradientul se va folosi in actualizarea ponderilor. \n",
    "\n",
    "def gradient(X:np.array, w:np.array, y:np.array, lmbda: float = 0) -> np.array:\n",
    "    \"\"\"Calculeaza gradientul functiei de eroare\n",
    "    \n",
    "    :param X: matrice de valori de intrare pentru care modelul de regresie \n",
    "    liniara produce estimari. Are forma (m, n)\n",
    "    :param w: vector coloana de ponderi, definind coeficientii modelului de \n",
    "    regresie liniara. Are forma (n, 1).\n",
    "    :param y: vector coloana de valori de iesire cunoscute (ground truth). \n",
    "    Are forma (n, 1).\n",
    "    :param lmda: coeficientul de penalizare L2\n",
    "    :return: vector gradient\n",
    "    \"\"\"\n",
    "    assert w.shape == (X.shape[1], 1)\n",
    "    assert y.shape == (X.shape[0], 1)\n",
    "    assert lmbda >= 0\n",
    "    m, _ = X.shape\n",
    "    y_hat = np.vstack(np.array([np.sum(np.multiply(X[i], np.hstack(w))) for i in range(0, X.shape[0])]))\n",
    "    grad = np.array([ (1 / m) * np.sum(np.array([ (y_hat[i] - y[i])*X[i,j] for i in range(0, X.shape[0])])) for j in range(0, w.shape[0]) ])\n",
    "    grad = np.vstack(grad)\n",
    "    grad[1:, ] += lmbda/m * w[1:, ]\n",
    "    assert grad.shape == w.shape\n",
    "    return grad"
   ]
  },
  {
   "cell_type": "code",
   "execution_count": 169,
   "metadata": {
    "ExecuteTime": {
     "end_time": "2020-03-14T10:25:02.137764Z",
     "start_time": "2020-03-14T10:25:02.130733Z"
    }
   },
   "outputs": [],
   "source": [
    "# Implementarea algoritmului de antrenare\n",
    "\n",
    "def train(X:np.array, y:np.array, max_iters:int = 100000, alpha:float = 0.01, lmbda: float = 0.01) -> Tuple[np.array, List[float]]:\n",
    "    \"\"\"Aplica algoritmul de instruire cu gradient. \n",
    "    \n",
    "    :param X: matrice de valori de intrare pentru care modelul de regresie \n",
    "    liniara produce estimari. Are forma (m, n)\n",
    "    :param y: vector coloana de valori de iesire cunoscute (ground truth). \n",
    "    Are forma (n, 1).\n",
    "    :param alpha: rata de invatare\n",
    "    :param lmda: coeficientul de penalizare L2\n",
    "    :return: tuplu continand ponderile modelului rezultate dupa instruire, lista de erori pe setul de antrenare\n",
    "    \"\"\"\n",
    "    m, n = X.shape\n",
    "    assert y.shape == (m, 1)\n",
    "    assert X.shape[0] == y.shape[0]\n",
    "    w = np.zeros((X.shape[1], 1))\n",
    "    losses = [None] * max_iters\n",
    "    for i in range(max_iters):\n",
    "        # calculeaza si adauga loss-ul in lista\n",
    "        # calculeaza gradientul si actualizaeaza ponderile w\n",
    "        loss = J(X, w, y, lmbda)\n",
    "        losses[i] = loss\n",
    "        grad = gradient(X, w, y, lmbda)\n",
    "        w -= alpha * grad\n",
    "        print(i)\n",
    "    return w, losses"
   ]
  },
  {
   "cell_type": "code",
   "execution_count": 170,
   "metadata": {
    "ExecuteTime": {
     "end_time": "2020-03-14T10:25:03.014302Z",
     "start_time": "2020-03-14T10:25:02.887383Z"
    }
   },
   "outputs": [
    {
     "name": "stdout",
     "output_type": "stream",
     "text": [
      "0\n",
      "1\n",
      "2\n",
      "3\n",
      "4\n",
      "5\n",
      "6\n",
      "7\n",
      "8\n",
      "9\n"
     ]
    }
   ],
   "source": [
    "# calcul ponderi si valorile functiei de cost\n",
    "\n",
    "w, losses = train(X, y, max_iters=10, alpha=0.3, lmbda=0.1)"
   ]
  },
  {
   "cell_type": "code",
   "execution_count": 171,
   "metadata": {
    "ExecuteTime": {
     "end_time": "2020-03-14T10:03:26.636896Z",
     "start_time": "2020-03-14T10:03:26.627971Z"
    }
   },
   "outputs": [
    {
     "data": {
      "text/plain": [
       "[<matplotlib.lines.Line2D at 0x11570ab10>]"
      ]
     },
     "execution_count": 171,
     "metadata": {},
     "output_type": "execute_result"
    },
    {
     "data": {
      "image/png": "[encoded data removed]",
      "text/plain": [
       "<Figure size 864x576 with 1 Axes>"
      ]
     },
     "metadata": {
      "needs_background": "light"
     },
     "output_type": "display_data"
    }
   ],
   "source": [
    "# desenarea curbei de cost pe setul de antrenare\n",
    "import matplotlib.pyplot as plt\n",
    "\n",
    "plt.figure(figsize=(12, 8))\n",
    "plt.xlabel('Epoca')\n",
    "plt.ylabel('Valoare de eroare')\n",
    "plt.plot(losses)"
   ]
  },
  {
   "cell_type": "code",
   "execution_count": 174,
   "metadata": {
    "ExecuteTime": {
     "end_time": "2020-03-01T08:57:44.546094Z",
     "start_time": "2020-03-01T08:57:44.537120Z"
    }
   },
   "outputs": [
    {
     "name": "stdout",
     "output_type": "stream",
     "text": [
      "Eroarea determinata prin algoritmul stochastic gradient descent: 0.09129844400254088\n",
      "Vectorul de ponderi: [ 0.15027328  0.01470197  0.01557041 -0.00056311 -0.00827122  0.01677039\n",
      " -0.00578142 -0.00578142  0.00880021  0.15027024  0.00492003 -0.00421035\n",
      "  0.15027024 -0.00628467 -0.00698349 -0.00018323 -0.00623765]\n"
     ]
    }
   ],
   "source": [
    "# Obtine valorile estimate de model, calculeaza eroarea intre estimare si \n",
    "# ground truth.\n",
    "\n",
    "# estimare facuta de model\n",
    "y_hat = np.vstack(np.array([np.sum(np.multiply(X[i], np.hstack(w))) for i in range(0, X.shape[0])]))\n",
    "# mean squared error pe setul de antrenare\n",
    "error_sgd = mean_squared_error(y, y_hat)\n",
    "\n",
    "print('Eroarea determinata prin algoritmul stochastic gradient descent:', error_sgd)\n",
    "print('Vectorul de ponderi:', w[:, 0])"
   ]
  },
  {
   "cell_type": "markdown",
   "metadata": {},
   "source": [
    "### Pseudoinverse method"
   ]
  },
  {
   "cell_type": "code",
   "execution_count": null,
   "metadata": {
    "ExecuteTime": {
     "end_time": "2020-03-01T09:03:02.137124Z",
     "start_time": "2020-03-01T09:03:02.117178Z"
    }
   },
   "outputs": [],
   "source": [
    "# se calculeaza w cu metoda pseudoinversei \n",
    "w_pinv = # scrieti cod pentru calcul folosinf metoda pinv din numpy\n",
    "\n",
    "# se calculeaza estimarea data cu ponderile w_pinv\n",
    "y_hat_pinv = # scrieti cod\n",
    "\n",
    "# se calculeaza eroarea patratica medie\n",
    "error_pinv= # scrieti cod\n",
    "\n",
    "print('Eroarea determinata prin metoda pseudoinversei:', error_pinv)"
   ]
  },
  {
   "cell_type": "code",
   "execution_count": null,
   "metadata": {
    "ExecuteTime": {
     "end_time": "2020-03-01T09:03:02.602130Z",
     "start_time": "2020-03-01T09:03:02.598140Z"
    }
   },
   "outputs": [],
   "source": [
    "# print(np.linalg.norm(gradient(X, w_pinv, y)))"
   ]
  },
  {
   "cell_type": "code",
   "execution_count": null,
   "metadata": {
    "ExecuteTime": {
     "end_time": "2020-03-01T09:03:03.032011Z",
     "start_time": "2020-03-01T09:03:03.025997Z"
    }
   },
   "outputs": [],
   "source": [
    "# afiseaza ponderile determinate prin metoda pseudoinversei\n",
    "\n",
    "print(w_pinv[:, 0])"
   ]
  },
  {
   "cell_type": "markdown",
   "metadata": {},
   "source": [
    "## Split validation"
   ]
  },
  {
   "cell_type": "code",
   "execution_count": null,
   "metadata": {
    "ExecuteTime": {
     "end_time": "2020-03-01T09:03:03.497733Z",
     "start_time": "2020-03-01T09:03:03.484769Z"
    }
   },
   "outputs": [],
   "source": [
    "# imparte setul initial in 70% antrenare si 30% testare\n",
    "\n",
    "data = # scrieti cod pentru a face o permutare aleatoare\n",
    "split_percentage = 0.7\n",
    "split_index = # scrieti cod; care e linia la care se opresete setul de train\n",
    "data_train = # scrieti cod\n",
    "data_test = # scrieti cod\n",
    "\n",
    "X_train, y_train = # scrieti cod pentru a separa intrarea de iesire\n",
    "X_test, y_test = # scrieti cod pentru a separa intrarea de iesire"
   ]
  },
  {
   "cell_type": "code",
   "execution_count": null,
   "metadata": {
    "ExecuteTime": {
     "end_time": "2020-03-01T09:03:04.082177Z",
     "start_time": "2020-03-01T09:03:04.069206Z"
    }
   },
   "outputs": [],
   "source": [
    "# scaleaza datele de intrare din setul de antrenare si obtine minimele \n",
    "# si maximele pe coloane\n",
    "X_train, min_X_train, max_X_train = # scrieti cod \n",
    "# scaleaza datele de iesire din setul de antrenare si obtine minimul si \n",
    "# maximul pe coloana\n",
    "y_train, min_y_train, max_y_train = # scrieti cod "
   ]
  },
  {
   "cell_type": "code",
   "execution_count": null,
   "metadata": {
    "ExecuteTime": {
     "end_time": "2020-03-01T09:03:04.584843Z",
     "start_time": "2020-03-01T09:03:04.577859Z"
    }
   },
   "outputs": [],
   "source": [
    "# scaleaza datele de intrare din setul de test, folosind minimele si maximele \n",
    "# pe coloane aflate de la X_train\n",
    "# se foloseste functia scale_matrix_with_known_minmax\n",
    "X_test = # scrieti cod \n",
    "\n",
    "# scaleaza datele de iesire din setul de test, folosind minimul si maximul \n",
    "# pe coloana aflate de la y_train\n",
    "y_test = # scrieti cod "
   ]
  },
  {
   "cell_type": "code",
   "execution_count": null,
   "metadata": {
    "ExecuteTime": {
     "end_time": "2020-03-01T09:04:28.792911Z",
     "start_time": "2020-03-01T09:03:05.053587Z"
    }
   },
   "outputs": [],
   "source": [
    "# antreneaza linear regression pe setul de antrenare, obtine ponderile\n",
    "# modelului\n",
    "\n",
    "w_train, losses_train = # scrieti cod pentru antrenare pe X_train, y_train \n",
    "# restul parametrilor ca la apelul de antrenare de mai sus"
   ]
  },
  {
   "cell_type": "code",
   "execution_count": null,
   "metadata": {
    "ExecuteTime": {
     "end_time": "2020-03-01T09:04:29.653610Z",
     "start_time": "2020-03-01T09:04:29.646629Z"
    }
   },
   "outputs": [],
   "source": [
    "# obtine estimarile date de model pe setul de testare\n",
    "\n",
    "y_hat_test = # scrieti cod \n",
    "print('MSE pentru setul de testare:', mean_squared_error(y_test, y_hat_test))"
   ]
  },
  {
   "cell_type": "code",
   "execution_count": null,
   "metadata": {
    "ExecuteTime": {
     "end_time": "2020-03-01T09:04:30.850441Z",
     "start_time": "2020-03-01T09:04:30.485385Z"
    }
   },
   "outputs": [],
   "source": [
    "# reprezentarea diferentei intre ground truth si estimare pe setul de testare\n",
    "plt.figure(figsize=(12, 8))\n",
    "plt.title('Erori reziduale pe setul de testare')\n",
    "plt.plot(y_test - y_hat_test)\n",
    "plt.xlabel('Data de intrare')\n",
    "plt.ylabel('Diferenta intre ground truth si valoarea estimata')"
   ]
  },
  {
   "cell_type": "code",
   "execution_count": null,
   "metadata": {},
   "outputs": [],
   "source": []
  }
 ],
 "metadata": {
  "kernelspec": {
   "display_name": "Python 3",
   "language": "python",
   "name": "python3"
  },
  "language_info": {
   "codemirror_mode": {
    "name": "ipython",
    "version": 3
   },
   "file_extension": ".py",
   "mimetype": "text/x-python",
   "name": "python",
   "nbconvert_exporter": "python",
   "pygments_lexer": "ipython3",
   "version": "3.7.6"
  },
  "notify_time": "5",
  "varInspector": {
   "cols": {
    "lenName": 16,
    "lenType": 16,
    "lenVar": 40
   },
   "kernels_config": {
    "python": {
     "delete_cmd_postfix": "",
     "delete_cmd_prefix": "del ",
     "library": "var_list.py",
     "varRefreshCmd": "print(var_dic_list())"
    },
    "r": {
     "delete_cmd_postfix": ") ",
     "delete_cmd_prefix": "rm(",
     "library": "var_list.r",
     "varRefreshCmd": "cat(var_dic_list()) "
    }
   },
   "types_to_exclude": [
    "module",
    "function",
    "builtin_function_or_method",
    "instance",
    "_Feature"
   ],
   "window_display": false
  }
 },
 "nbformat": 4,
 "nbformat_minor": 4
}
