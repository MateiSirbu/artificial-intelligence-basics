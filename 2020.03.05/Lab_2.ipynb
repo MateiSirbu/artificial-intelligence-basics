{
 "cells": [
  {
   "cell_type": "markdown",
   "metadata": {},
   "source": [
    "# Linear regression\n",
    "Sîrbu Matei-Dan, _grupa 10LF383_"
   ]
  },
  {
   "cell_type": "code",
   "execution_count": 10,
   "metadata": {
    "ExecuteTime": {
     "end_time": "2020-03-14T00:02:57.462473Z",
     "start_time": "2020-03-14T00:02:57.459337Z"
    }
   },
   "outputs": [],
   "source": [
    "import numpy as np\n",
    "import pandas as pd\n",
    "from typing import Tuple, List"
   ]
  },
  {
   "cell_type": "markdown",
   "metadata": {},
   "source": [
    "## Data reading"
   ]
  },
  {
   "cell_type": "code",
   "execution_count": 11,
   "metadata": {
    "ExecuteTime": {
     "end_time": "2020-03-14T00:02:58.271047Z",
     "start_time": "2020-03-14T00:02:58.226282Z"
    }
   },
   "outputs": [],
   "source": [
    "# incarcarea datelor\n",
    "\n",
    "# data source: http://archive.ics.uci.edu/ml/datasets/Condition+Based+Maintenance+of+Naval+Propulsion+Plants\n",
    "file = 'data.txt'\n",
    "data_df = pd.read_csv(file, sep=r'\\s+', header=None)\n",
    "data = data_df.values"
   ]
  },
  {
   "cell_type": "code",
   "execution_count": 12,
   "metadata": {
    "ExecuteTime": {
     "end_time": "2020-03-14T00:02:58.679060Z",
     "start_time": "2020-03-14T00:02:58.671491Z"
    }
   },
   "outputs": [
    {
     "name": "stdout",
     "output_type": "stream",
     "text": [
      "First row:  [1.138000e+00 3.000000e+00 2.899640e+02 1.349489e+03 6.677380e+03\n",
      " 7.584000e+00 7.584000e+00 4.640060e+02 2.880000e+02 5.505630e+02\n",
      " 1.096000e+00 9.980000e-01 5.947000e+00 1.019000e+00 7.137000e+00\n",
      " 8.200000e-02 9.750000e-01]\n"
     ]
    }
   ],
   "source": [
    "# se sterge penultima coloana\n",
    "\n",
    "data1 = data[:, :-2]\n",
    "data2 = data[:, -1].reshape((11934, 1))\n",
    "data = np.c_[data1, data2]\n",
    "print(\"First row: \", data[0, :])\n",
    "assert data.shape == (11934, 17)"
   ]
  },
  {
   "cell_type": "markdown",
   "metadata": {},
   "source": [
    "## Input processing"
   ]
  },
  {
   "cell_type": "code",
   "execution_count": 13,
   "metadata": {
    "ExecuteTime": {
     "end_time": "2020-03-14T00:02:59.657890Z",
     "start_time": "2020-03-14T00:02:59.651911Z"
    }
   },
   "outputs": [],
   "source": [
    "# Functie pentru separarea datelor de intrare de cele de iesire\n",
    "\n",
    "def get_input_output(mat: np.array) -> Tuple[np.array, np.array]:\n",
    "    \"\"\"Separa partea de intrare (variabile independente) de cea de iesire \n",
    "    (variabila dependenta).\n",
    "    \n",
    "    :param mat: np.array de forma (m, n). Fiecare linie este un caz \n",
    "    inregistrat, adica un vector de intrare. Primele n-1 coloane sunt valori \n",
    "    de intrare in model, ultima coloana este valoarea de iesire asociata \n",
    "    (ground truth).\n",
    "    \n",
    "    :return: un tuplu cu: matrice de (m, n-1) continand intrarile \n",
    "    (o linie = un vector de intrare); un vector coloana cu m linii continand\n",
    "    valorile de iesire asociate intrarilor.\n",
    "    \"\"\"\n",
    "    m, n = mat.shape\n",
    "    X = mat[:, :-1]\n",
    "    y = mat[:, -1].reshape(-1, 1)\n",
    "    assert np.alltrue(X == mat[:, :-1])\n",
    "    assert np.alltrue(y[:, -1] == mat[:, -1])\n",
    "    return X, y"
   ]
  },
  {
   "cell_type": "code",
   "execution_count": 14,
   "metadata": {
    "ExecuteTime": {
     "end_time": "2020-03-14T00:03:00.220779Z",
     "start_time": "2020-03-14T00:03:00.217008Z"
    }
   },
   "outputs": [],
   "source": [
    "# separa matricea cu vectorii de intrare si vectorul coloana cu iesirile asociate\n",
    "\n",
    "X, y = get_input_output(data)"
   ]
  },
  {
   "cell_type": "code",
   "execution_count": 15,
   "metadata": {
    "ExecuteTime": {
     "end_time": "2020-03-14T00:03:00.775951Z",
     "start_time": "2020-03-14T00:03:00.767236Z"
    }
   },
   "outputs": [],
   "source": [
    "# Functie pentru scalarea datelor in intervalul [0, 1]. \n",
    "# Scalele se calculeaza pe baza datelor furnizate\n",
    "\n",
    "def scale_matrix(mat: np.array) -> np.array:\n",
    "    \"\"\"Preia o matrice cu valori reale si scaleaza toate coloanele in \n",
    "    intervalul [0, 1]. Coloanele constante vor fi transformate in 1.\n",
    "    \n",
    "    :param mat: matrice de forma (m, n)\n",
    "    :return: matrice cu valori scalate in [0, 1]\n",
    "    \"\"\"\n",
    "    \n",
    "    # calculeaza pe ce indecsi minimele si maximele difera. \n",
    "    # Doar pe acestea se va face scalare. Coloanele pentru care minimele si \n",
    "    # maximele sunt egale au valori constante si vor fi umplute automat cu 1.\n",
    "    \n",
    "    # min_cols, max_cols = [mat[:,col].min() for col in range(0, np.size(mat,1))], [mat[:,col].max() for col in range(0, np.size(mat,1))]\n",
    "    min_cols, max_cols = np.min(mat, axis=0), np.max(mat, axis=0)\n",
    "    different_min_max = [col for col in range(0, np.size(mat,1)) if min_cols[col] != max_cols[col]]\n",
    "    result = np.ones_like(mat)\n",
    "    result[:, different_min_max] = [[(mat[i,j] - min_cols[j])/(max_cols[j] - min_cols[j]) for j in different_min_max] for i in range(0, np.size(mat, 0))]\n",
    "    result.reshape(mat.shape)\n",
    "    assert np.alltrue(np.min(result, axis=0) >= 0)\n",
    "    assert np.alltrue(np.max(result, axis=0) <= 1)\n",
    "    return result, min_cols, max_cols"
   ]
  },
  {
   "cell_type": "code",
   "execution_count": 16,
   "metadata": {
    "ExecuteTime": {
     "end_time": "2020-03-14T00:03:01.323408Z",
     "start_time": "2020-03-14T00:03:01.316198Z"
    }
   },
   "outputs": [],
   "source": [
    "# Functie pentru scalarea datelor. \n",
    "# Scalele sunt furnizate, de regula calculate pe baza datelor din setul \n",
    "# de antrenare\n",
    "\n",
    "def scale_matrix_with_known_minmax(mat: np.array, min_cols: np.array, max_cols: np.array) -> np.array:\n",
    "    \"\"\"Preia o matrice  :param mat: si efectueaza scalarea valorilor in \n",
    "    intervalul [0, 1] folosind valori de min si max pe fiecare coloana \n",
    "    precalculate si date prin parametrii :param min_cols:, :param max_cols:.\n",
    "    \n",
    "    :param mat: matricea de (m, n) care trebuie scalata.\n",
    "    :param min_cols: minime pe coloane, precalculate\n",
    "    :param max_cols: maxime pe coloane, precalculate\n",
    "    :return: matrice de (m, n) cu valori scalate.\n",
    "    \"\"\"\n",
    "    # calculeaza pe ce indecsi minimele si maximele difera. \n",
    "    # Doar pe acestea se va face scalare. Coloanele pentru care minimele si \n",
    "    # maximele sunt egale au valori constante si vor fi umplute automat cu 1.\n",
    "    \n",
    "    different_min_max = [col for col in range(0, np.size(mat,1)) if min_cols[col] != max_cols[col]]\n",
    "    result = np.ones_like(mat)\n",
    "    result[:, different_min_max] = [[(mat[i,j] - min_cols[j])/(max_cols[j] - min_cols[j]) for j in different_min_max] for i in range(0, np.size(mat, 0))]\n",
    "    assert result.shape == mat.shape\n",
    "    return result"
   ]
  },
  {
   "cell_type": "code",
   "execution_count": 17,
   "metadata": {
    "ExecuteTime": {
     "end_time": "2020-03-14T00:03:02.087279Z",
     "start_time": "2020-03-14T00:03:01.892352Z"
    }
   },
   "outputs": [],
   "source": [
    "# scaleaza matricele\n",
    "\n",
    "X, min_cols, max_cols = scale_matrix(X)\n",
    "y, _, _ = scale_matrix(y)"
   ]
  },
  {
   "cell_type": "code",
   "execution_count": 18,
   "metadata": {
    "ExecuteTime": {
     "end_time": "2020-03-14T00:03:02.440317Z",
     "start_time": "2020-03-14T00:03:02.435487Z"
    }
   },
   "outputs": [],
   "source": [
    "# calculeaza matricea de design: coloana de 1 adaugata in fata datelor originare\n",
    "\n",
    "def design_matrix(mat: np.array) -> np.array:\n",
    "    \"\"\"Preia o matrice de forma (m, n) si returneaza o matrice de forma \n",
    "    (m, n+1), in care prima coloana este 1, iar ultimele n coloane sunt \n",
    "    coloanele lui :param mat:.\n",
    "    \n",
    "    :param mat: matrice de forma (m, n)\n",
    "    :return: matrice de forma (m, n+1), cu prima coloana plina cu 1, ultimele \n",
    "    n coloane sunt cele din :param mat:\n",
    "    \"\"\"\n",
    "    m, n = mat.shape\n",
    "    result = np.hstack((np.ones(m).reshape(m, 1), mat))\n",
    "    assert result.shape == (m, n+1)\n",
    "    assert np.alltrue(result[:, 0] == 1)\n",
    "    assert np.alltrue(result[:, 1:] == mat)\n",
    "    return result"
   ]
  },
  {
   "cell_type": "code",
   "execution_count": 19,
   "metadata": {
    "ExecuteTime": {
     "end_time": "2020-03-14T00:03:03.023801Z",
     "start_time": "2020-03-14T00:03:03.019317Z"
    }
   },
   "outputs": [],
   "source": [
    "# calculeaza matricea de design: vechea matrice la care se adauga pe prima\n",
    "# pozitie coloana cu 1\n",
    "X = design_matrix(X)"
   ]
  },
  {
   "cell_type": "markdown",
   "metadata": {},
   "source": [
    "## Linear regression with stochastic gradient descent"
   ]
  },
  {
   "cell_type": "markdown",
   "metadata": {},
   "source": [
    "### Model implementation"
   ]
  },
  {
   "cell_type": "code",
   "execution_count": 20,
   "metadata": {
    "ExecuteTime": {
     "end_time": "2020-03-14T10:24:59.507891Z",
     "start_time": "2020-03-14T10:24:59.501348Z"
    }
   },
   "outputs": [],
   "source": [
    "# Functie care implementeaza modelul de regresie liniara\n",
    "\n",
    "def h(X: np.array, w: np.array) -> np.array:\n",
    "    \"\"\"Pentru un model liniar specificat prin parametrii w si un set de date \n",
    "    de intrare X produce valorile estimate de model: \n",
    "    y_hat[i] = X[i, 0] * w[0] + X[i, 1] * w[1] + ...  \n",
    "   \n",
    "   :param X: valori de intrare, structurate ca np.array de forma (m, n)\n",
    "   :param w: vector de ponderi, de forma (n, 1)\n",
    "   :return: vector cu valori de iesire estimate, de forma (n, 1). \n",
    "    \"\"\"\n",
    "    assert w.shape == (X.shape[1], 1)\n",
    "    assert X.shape[1] == w.shape[0]\n",
    "    y_hat = np.matmul(X, w)\n",
    "    assert y_hat.shape == (X.shape[0], 1)\n",
    "    return y_hat"
   ]
  },
  {
   "cell_type": "markdown",
   "metadata": {},
   "source": [
    "### MSE function\n",
    "$$MSE = \\frac{1}{n} \\sum_{i=1}^n (y^{(i)} - \\hat{y}^{(i)})^2$$\n",
    "unde $$\\hat{y} = h_{\\theta}(x)$$"
   ]
  },
  {
   "cell_type": "code",
   "execution_count": 21,
   "metadata": {
    "ExecuteTime": {
     "end_time": "2020-03-14T10:25:00.330619Z",
     "start_time": "2020-03-14T10:25:00.326100Z"
    }
   },
   "outputs": [],
   "source": [
    "# Implementare de eroare patratica medie\n",
    "\n",
    "def mean_squared_error(y: np.array, y_hat: np.array) -> float:\n",
    "    \"\"\"Functie de eroare patratica medie.\n",
    "    \n",
    "    :param y: vector coloana de m elemente, continand valorile de iesire reale \n",
    "    (ground truth)\n",
    "    :param y_hat': vector coloana de m elemente, continand valorile de iesire\n",
    "    estimate.\n",
    "    :return: eroarea patratica medie.\n",
    "    \"\"\"\n",
    "    n = y.shape[0]\n",
    "    result = 1/n * ((np.subtract(y, y_hat)**2).sum())\n",
    "    return result"
   ]
  },
  {
   "cell_type": "markdown",
   "metadata": {},
   "source": [
    "### Cost function\n",
    "Look up: L2 regularisation\n",
    "https://stats.stackexchange.com/questions/287920/regularisation-why-multiply-by-1-2m <br>\n",
    "$\\large J^+(\\theta) = J(\\theta) + \\frac{\\lambda}{2m} \\sum_{j=1}^{n} \\theta_j^2$ <br>\n",
    "unde J: <br>\n",
    "$\\large J(\\theta) = J(\\theta_0, \\theta_1) = \\frac{1}{2m} \\sum_{i=1}^{m} ((h_{\\theta}(x^{(i)}) - y^{(i)})^2)$ <br>\n",
    "_Documentație curs: pagina 21_"
   ]
  },
  {
   "cell_type": "code",
   "execution_count": 22,
   "metadata": {
    "ExecuteTime": {
     "end_time": "2020-03-14T10:25:00.581038Z",
     "start_time": "2020-03-14T10:25:00.574217Z"
    }
   },
   "outputs": [],
   "source": [
    "# Functia de eroare\n",
    "\n",
    "def J(X:np.array, w:np.array, y:np.array, lmbda: float = 0) -> float:\n",
    "    \"\"\"Calculeaza valoarea functiei de eroare pentru intrarea curenta :param X:, \n",
    "    estimarea produsa de model folosind ponderile :param w: si iesirea corecta\n",
    "    :param y: (ground truth).\n",
    "    \n",
    "    :param X: matrice de valori de intrare pentru care modelul de regresie \n",
    "    liniara produce estimari. Are forma (m, n)\n",
    "    :param w: vector coloana de ponderi, definind coeficientii modelului de \n",
    "    regresie liniara. Are forma (n, 1).\n",
    "    :param y: vector coloana de valori de iesire cunoscute (ground truth). \n",
    "    Are forma (n, 1).\n",
    "    :param lmda: coeficientul de penalizare L2\n",
    "    :return: jumatate din mean squared error plus penalizarea L2\n",
    "    \"\"\"\n",
    "    \n",
    "    assert w.shape == (X.shape[1], 1)\n",
    "    assert y.shape == (X.shape[0], 1)\n",
    "    assert lmbda >= 0\n",
    "    m = X.shape[0]\n",
    "    y_hat = h(X, w)\n",
    "    assert y_hat.shape == (X.shape[0], 1)\n",
    "    term_squared_error = 1/(2*m) * np.sum(np.subtract(y_hat, y)**2)\n",
    "    l2_error = lmbda/(2*m) * np.sum(w**2)\n",
    "    return term_squared_error + l2_error "
   ]
  },
  {
   "cell_type": "markdown",
   "metadata": {
    "ExecuteTime": {
     "end_time": "2020-02-29T17:01:38.997750Z",
     "start_time": "2020-02-29T17:01:38.989771Z"
    }
   },
   "source": [
    "### Stochastic gradient descent implementation"
   ]
  },
  {
   "cell_type": "markdown",
   "metadata": {},
   "source": [
    "Vector de gradienți (derivate parțiale): $\\large \\nabla_{\\theta}J = \\begin{pmatrix} \\frac{\\partial{J}}{\\partial{\\theta_0}} \\\\ \\frac{\\partial{J}}{\\partial{\\theta_1}} \\end{pmatrix}$ \n",
    ", unde $\\large \\frac{\\partial{J}}{\\partial{\\theta_j}} = \\frac{1}{m} \\sum_{i=1}^{m} [(h_\\theta(x^{(i)}) - y^{(i)}) \\cdot x_j^{(i)}]$ <br>\n",
    "Gradient cu penalizare L2: $\\large \\frac{\\partial{J}}{\\partial{\\theta_j}} = \\frac{1}{m} \\sum_{i=1}^{m} [(h_\\theta(x^{(i)}) - y^{(i)}) \\cdot x_j^{(i)}] + \\frac{\\lambda}{m} \\theta_{j} \\ \\ \\ \\text{pentru } j \\geq 1$\n",
    "($\\frac{\\partial{J}}{\\partial{\\theta_0}}$ nu are penalizare L2)<br>\n",
    "(Documentație: http://pingax.com/regularization-implementation-r/)<br><br>\n",
    "Algoritm:  <br>\n",
    "`Repeat {` <br>\n",
    "$\\large \\theta_0 := \\theta_0 - \\alpha \\frac{1}{m} \\sum_{i=1}^m (h_\\theta(x^{(i)}) - y^{(i)})x_0^{(i)}$ <br>\n",
    "$\\large \\theta_j := \\theta_j - \\alpha [(\\frac{1}{m} \\sum_{i=1}^m (h_\\theta(x^{(i)}) - y^{(i)})x_j^{(i)}) + \\frac{\\lambda}{m} \\theta_j] \\ \\ \\ \\ j \\in \\{1, 2, ..., n\\}$ <br>\n",
    "`}`  <br>\n",
    "(Documentație: https://stats.stackexchange.com/questions/111388/derivation-of-regularized-linear-regression-cost-function-per-coursera-machine-l)"
   ]
  },
  {
   "cell_type": "code",
   "execution_count": 23,
   "metadata": {
    "ExecuteTime": {
     "end_time": "2020-03-14T10:25:01.636726Z",
     "start_time": "2020-03-14T10:25:01.627987Z"
    }
   },
   "outputs": [],
   "source": [
    "# Calcul de gradient. gradientul se va folosi in actualizarea ponderilor. \n",
    "\n",
    "def gradient(X:np.array, w:np.array, y:np.array, lmbda: float = 0) -> np.array:\n",
    "    \"\"\"Calculeaza gradientul functiei de eroare\n",
    "    \n",
    "    :param X: matrice de valori de intrare pentru care modelul de regresie \n",
    "    liniara produce estimari. Are forma (m, n)\n",
    "    :param w: vector coloana de ponderi, definind coeficientii modelului de \n",
    "    regresie liniara. Are forma (n, 1).\n",
    "    :param y: vector coloana de valori de iesire cunoscute (ground truth). \n",
    "    Are forma (n, 1).\n",
    "    :param lmda: coeficientul de penalizare L2\n",
    "    :return: vector gradient\n",
    "    \"\"\"\n",
    "    assert w.shape == (X.shape[1], 1)\n",
    "    assert y.shape == (X.shape[0], 1)\n",
    "    assert lmbda >= 0\n",
    "    m, n = X.shape\n",
    "    y_hat = h(X, w)\n",
    "    sums = np.subtract(y_hat, y) # for i = 1 to m: y_hat[i] - y[i]\n",
    "    sums = np.multiply(np.repeat(sums, repeats=n, axis=1), X) ## * X[i,j]\n",
    "    grad = 1/m * np.vstack(np.sum(sums, axis=0)) ## 1/m * sum\n",
    "    grad = grad + (lmbda/m)*w\n",
    "    assert grad.shape == w.shape\n",
    "    return grad"
   ]
  },
  {
   "cell_type": "code",
   "execution_count": 24,
   "metadata": {
    "ExecuteTime": {
     "end_time": "2020-03-14T10:25:02.137764Z",
     "start_time": "2020-03-14T10:25:02.130733Z"
    }
   },
   "outputs": [],
   "source": [
    "# Implementarea algoritmului de antrenare\n",
    "\n",
    "def train(X:np.array, y:np.array, max_iters:int = 100000, alpha:float = 0.01, lmbda: float = 0.01) -> Tuple[np.array, List[float]]:\n",
    "    \"\"\"Aplica algoritmul de instruire cu gradient. \n",
    "    \n",
    "    :param X: matrice de valori de intrare pentru care modelul de regresie \n",
    "    liniara produce estimari. Are forma (m, n)\n",
    "    :param y: vector coloana de valori de iesire cunoscute (ground truth). \n",
    "    Are forma (n, 1).\n",
    "    :param alpha: rata de invatare\n",
    "    :param lmda: coeficientul de penalizare L2\n",
    "    :return: tuplu continand ponderile modelului rezultate dupa instruire, lista de erori pe setul de antrenare\n",
    "    \"\"\"\n",
    "    m, n = X.shape\n",
    "    assert y.shape == (m, 1)\n",
    "    assert X.shape[0] == y.shape[0]\n",
    "    w = np.zeros((X.shape[1], 1))\n",
    "    losses = [None] * max_iters\n",
    "    for i in range(max_iters):\n",
    "        # calculeaza si adauga loss-ul in lista\n",
    "        # calculeaza gradientul si actualizaeaza ponderile w\n",
    "        loss = J(X, w, y, lmbda)\n",
    "        losses[i] = loss\n",
    "        if i % 1000 == 0:\n",
    "            print('Loss at iteration ' + str(i) + ': ' + str(losses[i]))\n",
    "        grad = gradient(X, w, y, lmbda)\n",
    "        w -= alpha * grad\n",
    "    return w, losses"
   ]
  },
  {
   "cell_type": "code",
   "execution_count": 25,
   "metadata": {
    "ExecuteTime": {
     "end_time": "2020-03-14T10:25:03.014302Z",
     "start_time": "2020-03-14T10:25:02.887383Z"
    }
   },
   "outputs": [
    {
     "name": "stdout",
     "output_type": "stream",
     "text": [
      "Loss at iteration 0: 0.17\n",
      "Loss at iteration 1000: 0.04199549481083563\n",
      "Loss at iteration 2000: 0.040550406857235925\n",
      "Loss at iteration 3000: 0.03962487815162621\n",
      "Loss at iteration 4000: 0.0389130486564558\n",
      "Loss at iteration 5000: 0.038305665752892314\n",
      "Loss at iteration 6000: 0.03775633009715552\n",
      "Loss at iteration 7000: 0.03724311564205268\n",
      "Loss at iteration 8000: 0.03675493140800361\n",
      "Loss at iteration 9000: 0.03628586892796733\n",
      "Loss at iteration 10000: 0.03583262146436878\n",
      "Loss at iteration 11000: 0.03539323256103349\n",
      "Loss at iteration 12000: 0.034966464907740885\n",
      "Loss at iteration 13000: 0.034551473356023606\n",
      "Loss at iteration 14000: 0.03414763218577855\n",
      "Loss at iteration 15000: 0.03375444246468711\n",
      "Loss at iteration 16000: 0.033371481695722106\n",
      "Loss at iteration 17000: 0.03299837606647415\n",
      "Loss at iteration 18000: 0.03263478489369931\n",
      "Loss at iteration 19000: 0.03228039170275265\n",
      "Loss at iteration 20000: 0.03193489894763955\n",
      "Loss at iteration 21000: 0.03159802474938188\n",
      "Loss at iteration 22000: 0.03126950076900001\n",
      "Loss at iteration 23000: 0.030949070731052356\n",
      "Loss at iteration 24000: 0.030636489330772836\n",
      "Loss at iteration 25000: 0.03033152137619993\n",
      "Loss at iteration 26000: 0.03003394108145694\n",
      "Loss at iteration 27000: 0.029743531462950005\n",
      "Loss at iteration 28000: 0.029460083809953574\n",
      "Loss at iteration 29000: 0.029183397212060803\n",
      "Loss at iteration 30000: 0.028913278132212273\n",
      "Loss at iteration 31000: 0.028649540017624157\n",
      "Loss at iteration 32000: 0.02839200294308426\n",
      "Loss at iteration 33000: 0.028140493282414667\n",
      "Loss at iteration 34000: 0.027894843404764377\n",
      "Loss at iteration 35000: 0.027654891392986804\n",
      "Loss at iteration 36000: 0.027420480781788884\n",
      "Loss at iteration 37000: 0.027191460313665324\n",
      "Loss at iteration 38000: 0.02696768371089242\n",
      "Loss at iteration 39000: 0.026749009462071156\n",
      "Loss at iteration 40000: 0.026535300621888108\n",
      "Loss at iteration 41000: 0.026326424622917215\n",
      "Loss at iteration 42000: 0.026122253098417883\n",
      "Loss at iteration 43000: 0.025922661715200038\n",
      "Loss at iteration 44000: 0.025727530015727893\n",
      "Loss at iteration 45000: 0.025536741268721616\n",
      "Loss at iteration 46000: 0.025350182327594797\n",
      "Loss at iteration 47000: 0.025167743496132437\n",
      "Loss at iteration 48000: 0.02498931840087563\n",
      "Loss at iteration 49000: 0.024814803869730985\n",
      "Loss at iteration 50000: 0.024644099816370786\n",
      "Loss at iteration 51000: 0.024477109130030553\n",
      "Loss at iteration 52000: 0.02431373757034817\n",
      "Loss at iteration 53000: 0.024153893666920404\n",
      "Loss at iteration 54000: 0.023997488623282926\n",
      "Loss at iteration 55000: 0.02384443622504429\n",
      "Loss at iteration 56000: 0.023694652751928592\n",
      "Loss at iteration 57000: 0.02354805689350106\n",
      "Loss at iteration 58000: 0.023404569668369683\n",
      "Loss at iteration 59000: 0.023264114346672332\n",
      "Loss at iteration 60000: 0.023126616375673297\n",
      "Loss at iteration 61000: 0.022992003308306672\n",
      "Loss at iteration 62000: 0.022860204734515832\n",
      "Loss at iteration 63000: 0.02273115221524894\n",
      "Loss at iteration 64000: 0.022604779218980145\n",
      "Loss at iteration 65000: 0.022481021060635164\n",
      "Loss at iteration 66000: 0.022359814842807434\n",
      "Loss at iteration 67000: 0.022241099399159057\n",
      "Loss at iteration 68000: 0.02212481523990647\n",
      "Loss at iteration 69000: 0.02201090449929761\n",
      "Loss at iteration 70000: 0.021899310884992616\n",
      "Loss at iteration 71000: 0.021789979629264992\n",
      "Loss at iteration 72000: 0.021682857441945168\n",
      "Loss at iteration 73000: 0.021577892465032788\n",
      "Loss at iteration 74000: 0.0214750342289074\n",
      "Loss at iteration 75000: 0.0213742336100718\n",
      "Loss at iteration 76000: 0.021275442790365136\n",
      "Loss at iteration 77000: 0.02117861521758635\n",
      "Loss at iteration 78000: 0.021083705567471148\n",
      "Loss at iteration 79000: 0.020990669706968817\n",
      "Loss at iteration 80000: 0.020899464658767918\n",
      "Loss at iteration 81000: 0.020810048567021767\n",
      "Loss at iteration 82000: 0.020722380664227193\n",
      "Loss at iteration 83000: 0.02063642123921265\n",
      "Loss at iteration 84000: 0.02055213160619275\n",
      "Loss at iteration 85000: 0.02046947407484922\n",
      "Loss at iteration 86000: 0.020388411921399396\n",
      "Loss at iteration 87000: 0.020308909360615482\n",
      "Loss at iteration 88000: 0.020230931518758807\n",
      "Loss at iteration 89000: 0.020154444407395812\n",
      "Loss at iteration 90000: 0.020079414898062867\n",
      "Loss at iteration 91000: 0.020005810697748976\n",
      "Loss at iteration 92000: 0.01993360032516689\n",
      "Loss at iteration 93000: 0.019862753087783618\n",
      "Loss at iteration 94000: 0.01979323905958329\n",
      "Loss at iteration 95000: 0.01972502905953611\n",
      "Loss at iteration 96000: 0.019658094630748062\n",
      "Loss at iteration 97000: 0.01959240802026721\n",
      "Loss at iteration 98000: 0.01952794215952359\n",
      "Loss at iteration 99000: 0.019464670645380034\n"
     ]
    }
   ],
   "source": [
    "# calcul ponderi si valorile functiei de cost\n",
    "\n",
    "w, losses = train(X, y, max_iters=100000, alpha=0.3, lmbda=0.1)"
   ]
  },
  {
   "cell_type": "code",
   "execution_count": 26,
   "metadata": {
    "ExecuteTime": {
     "end_time": "2020-03-14T10:03:26.636896Z",
     "start_time": "2020-03-14T10:03:26.627971Z"
    }
   },
   "outputs": [
    {
     "data": {
      "text/plain": [
       "[<matplotlib.lines.Line2D at 0x122749ed0>]"
      ]
     },
     "execution_count": 26,
     "metadata": {},
     "output_type": "execute_result"
    },
    {
     "data": {
      "image/png": "[encoded data removed]",
      "text/plain": [
       "<Figure size 864x576 with 1 Axes>"
      ]
     },
     "metadata": {
      "needs_background": "light"
     },
     "output_type": "display_data"
    }
   ],
   "source": [
    "# desenarea curbei de cost pe setul de antrenare\n",
    "import matplotlib.pyplot as plt\n",
    "\n",
    "plt.figure(figsize=(12, 8))\n",
    "plt.xlabel('Epoca')\n",
    "plt.ylabel('Valoare de eroare')\n",
    "plt.plot(losses)"
   ]
  },
  {
   "cell_type": "code",
   "execution_count": 27,
   "metadata": {
    "ExecuteTime": {
     "end_time": "2020-03-01T08:57:44.546094Z",
     "start_time": "2020-03-01T08:57:44.537120Z"
    }
   },
   "outputs": [
    {
     "name": "stdout",
     "output_type": "stream",
     "text": [
      "Eroarea determinata prin algoritmul stochastic gradient descent: 0.03395724293502481\n",
      "Vectorul de ponderi: [  0.22495979   0.40494616   0.24364134  11.43391956   2.76308218\n",
      "   1.31925777  -3.09057549  -3.09057549  -1.41875864   0.22495979\n",
      "   0.75250165   3.8126903    0.22495979 -19.41768983   4.91275509\n",
      "   0.14395485   0.80070499]\n"
     ]
    }
   ],
   "source": [
    "# Obtine valorile estimate de model, calculeaza eroarea intre estimare si \n",
    "# ground truth.\n",
    "\n",
    "# estimare facuta de model\n",
    "y_hat = np.vstack(np.sum(np.multiply(X, w.transpose()), axis=1))\n",
    "# mean squared error pe setul de antrenare\n",
    "error_sgd = mean_squared_error(y, y_hat)\n",
    "\n",
    "print('Eroarea determinata prin algoritmul stochastic gradient descent:', error_sgd)\n",
    "print('Vectorul de ponderi:', w[:, 0])"
   ]
  },
  {
   "cell_type": "markdown",
   "metadata": {},
   "source": [
    "### Pseudoinverse method"
   ]
  },
  {
   "cell_type": "code",
   "execution_count": 28,
   "metadata": {
    "ExecuteTime": {
     "end_time": "2020-03-01T09:03:02.137124Z",
     "start_time": "2020-03-01T09:03:02.117178Z"
    }
   },
   "outputs": [
    {
     "name": "stdout",
     "output_type": "stream",
     "text": [
      "Eroarea determinata prin metoda pseudoinversei: 0.008010137201200612\n"
     ]
    }
   ],
   "source": [
    "# se calculeaza w cu metoda pseudoinversei \n",
    "w_pinv = np.matmul(np.linalg.pinv(X), y)\n",
    "\n",
    "# se calculeaza estimarea data cu ponderile w_pinv\n",
    "y_hat_pinv = h(X, w_pinv)\n",
    "\n",
    "# se calculeaza eroarea patratica medie\n",
    "error_pinv = mean_squared_error(y, y_hat_pinv)\n",
    "\n",
    "print('Eroarea determinata prin metoda pseudoinversei:', error_pinv)"
   ]
  },
  {
   "cell_type": "code",
   "execution_count": 29,
   "metadata": {
    "ExecuteTime": {
     "end_time": "2020-03-01T09:03:02.602130Z",
     "start_time": "2020-03-01T09:03:02.598140Z"
    }
   },
   "outputs": [
    {
     "name": "stdout",
     "output_type": "stream",
     "text": [
      "1.73935464161066e-14\n"
     ]
    }
   ],
   "source": [
    "print(np.linalg.norm(gradient(X, w_pinv, y)))"
   ]
  },
  {
   "cell_type": "code",
   "execution_count": 30,
   "metadata": {
    "ExecuteTime": {
     "end_time": "2020-03-01T09:03:03.032011Z",
     "start_time": "2020-03-01T09:03:03.025997Z"
    }
   },
   "outputs": [
    {
     "name": "stdout",
     "output_type": "stream",
     "text": [
      "[  0.29015495   0.39839967   5.56767682  40.06318117   5.89697855\n",
      "   4.03988449 -20.25484653 -20.25484653 -18.34254684   0.29015495\n",
      "   1.81835155  11.32697686   0.29015495 -37.23147039   1.22929938\n",
      "  -0.88382777  25.32182337]\n"
     ]
    }
   ],
   "source": [
    "# afiseaza ponderile determinate prin metoda pseudoinversei\n",
    "\n",
    "print(w_pinv[:, 0])"
   ]
  },
  {
   "cell_type": "markdown",
   "metadata": {},
   "source": [
    "## Split validation"
   ]
  },
  {
   "cell_type": "code",
   "execution_count": 31,
   "metadata": {
    "ExecuteTime": {
     "end_time": "2020-03-01T09:03:03.497733Z",
     "start_time": "2020-03-01T09:03:03.484769Z"
    }
   },
   "outputs": [],
   "source": [
    "# imparte setul initial in 70% antrenare si 30% testare\n",
    "\n",
    "np.random.shuffle(data)\n",
    "split_percentage = 0.7\n",
    "split_index = int(round(0.7 * (data.shape[0])))\n",
    "data_train = data[0:split_index]\n",
    "data_test = data[split_index+1:]\n",
    "X_train, y_train = data_train[:, :-1], data_train[:, -1].reshape(-1, 1)\n",
    "X_test, y_test = data_test[:, :-1], data_test[:, -1].reshape(-1, 1)"
   ]
  },
  {
   "cell_type": "code",
   "execution_count": 32,
   "metadata": {
    "ExecuteTime": {
     "end_time": "2020-03-01T09:03:04.082177Z",
     "start_time": "2020-03-01T09:03:04.069206Z"
    }
   },
   "outputs": [],
   "source": [
    "# scaleaza datele de intrare din setul de antrenare si obtine minimele \n",
    "# si maximele pe coloane\n",
    "X_train, min_X_train, max_X_train = scale_matrix(X_train)\n",
    "# scaleaza datele de iesire din setul de antrenare si obtine minimul si \n",
    "# maximul pe coloana\n",
    "y_train, min_y_train, max_y_train = scale_matrix(y_train)"
   ]
  },
  {
   "cell_type": "code",
   "execution_count": 33,
   "metadata": {
    "ExecuteTime": {
     "end_time": "2020-03-01T09:03:04.584843Z",
     "start_time": "2020-03-01T09:03:04.577859Z"
    }
   },
   "outputs": [],
   "source": [
    "# scaleaza datele de intrare din setul de test, folosind minimele si maximele \n",
    "# pe coloane aflate de la X_train\n",
    "# se foloseste functia scale_matrix_with_known_minmax\n",
    "X_test = scale_matrix_with_known_minmax(X_test, min_X_train, max_X_train)\n",
    "\n",
    "# scaleaza datele de iesire din setul de test, folosind minimul si maximul \n",
    "# pe coloana aflate de la y_train\n",
    "y_test = scale_matrix_with_known_minmax(y_test, min_y_train, max_y_train)"
   ]
  },
  {
   "cell_type": "code",
   "execution_count": null,
   "metadata": {
    "ExecuteTime": {
     "end_time": "2020-03-01T09:04:28.792911Z",
     "start_time": "2020-03-01T09:03:05.053587Z"
    }
   },
   "outputs": [
    {
     "name": "stdout",
     "output_type": "stream",
     "text": [
      "Loss at iteration 0: 0.1703510653579124\n",
      "Loss at iteration 1000: 0.04245535515431625\n",
      "Loss at iteration 2000: 0.04101912111017098\n",
      "Loss at iteration 3000: 0.04008766956027215\n",
      "Loss at iteration 4000: 0.039364522287493396\n",
      "Loss at iteration 5000: 0.03874411296709598\n",
      "Loss at iteration 6000: 0.038181805407499846\n",
      "Loss at iteration 7000: 0.03765653059077979\n",
      "Loss at iteration 8000: 0.03715759228131278\n",
      "Loss at iteration 9000: 0.03667923869228887\n",
      "Loss at iteration 10000: 0.03621819804516174\n",
      "Loss at iteration 11000: 0.03577248787093797\n",
      "Loss at iteration 12000: 0.03534081564054727\n",
      "Loss at iteration 13000: 0.03492226832345106\n",
      "Loss at iteration 14000: 0.034516148168129104\n",
      "Loss at iteration 15000: 0.0341218843421992\n",
      "Loss at iteration 16000: 0.033738984640132946\n",
      "Loss at iteration 17000: 0.03336700863989752\n",
      "Loss at iteration 18000: 0.03300555246624886\n",
      "Loss at iteration 19000: 0.032654239896673265\n",
      "Loss at iteration 20000: 0.03231271696980798\n",
      "Loss at iteration 21000: 0.031980648553061784\n",
      "Loss at iteration 22000: 0.03165771602542035\n",
      "Loss at iteration 23000: 0.031343615610635325\n",
      "Loss at iteration 24000: 0.03103805710261387\n",
      "Loss at iteration 25000: 0.030740762837894852\n",
      "Loss at iteration 26000: 0.030451466832267\n",
      "Loss at iteration 27000: 0.030169914032974053\n",
      "Loss at iteration 28000: 0.0298958596571334\n",
      "Loss at iteration 29000: 0.029629068597823473\n"
     ]
    }
   ],
   "source": [
    "# antreneaza linear regression pe setul de antrenare, obtine ponderile\n",
    "# modelului\n",
    "\n",
    "w_train, losses_train = train(X_train, y_train, max_iters=100000, alpha=0.3, lmbda=0.1)\n",
    "# scrieti cod pentru antrenare pe X_train, y_train \n",
    "# restul parametrilor ca la apelul de antrenare de mai sus"
   ]
  },
  {
   "cell_type": "code",
   "execution_count": null,
   "metadata": {
    "ExecuteTime": {
     "end_time": "2020-03-01T09:04:29.653610Z",
     "start_time": "2020-03-01T09:04:29.646629Z"
    }
   },
   "outputs": [],
   "source": [
    "# obtine estimarile date de model pe setul de testare\n",
    "\n",
    "y_hat_test = h(X_test, w_train)\n",
    "print('MSE pentru setul de testare:', mean_squared_error(y_test, y_hat_test))"
   ]
  },
  {
   "cell_type": "code",
   "execution_count": 30,
   "metadata": {
    "ExecuteTime": {
     "end_time": "2020-03-01T09:04:30.850441Z",
     "start_time": "2020-03-01T09:04:30.485385Z"
    }
   },
   "outputs": [
    {
     "data": {
      "text/plain": [
       "Text(0, 0.5, 'Diferenta intre ground truth si valoarea estimata')"
      ]
     },
     "execution_count": 30,
     "metadata": {},
     "output_type": "execute_result"
    },
    {
     "data": {
      "image/png": "[encoded data removed]",
      "text/plain": [
       "<Figure size 864x576 with 1 Axes>"
      ]
     },
     "metadata": {
      "needs_background": "light"
     },
     "output_type": "display_data"
    }
   ],
   "source": [
    "# reprezentarea diferentei intre ground truth si estimare pe setul de testare\n",
    "plt.figure(figsize=(12, 8))\n",
    "plt.title('Erori reziduale pe setul de testare')\n",
    "plt.plot(y_test - y_hat_test)\n",
    "plt.xlabel('Data de intrare')\n",
    "plt.ylabel('Diferenta intre ground truth si valoarea estimata')"
   ]
  },
  {
   "cell_type": "code",
   "execution_count": null,
   "metadata": {},
   "outputs": [],
   "source": []
  }
 ],
 "metadata": {
  "kernelspec": {
   "display_name": "Python 3",
   "language": "python",
   "name": "python3"
  },
  "language_info": {
   "codemirror_mode": {
    "name": "ipython",
    "version": 3
   },
   "file_extension": ".py",
   "mimetype": "text/x-python",
   "name": "python",
   "nbconvert_exporter": "python",
   "pygments_lexer": "ipython3",
   "version": "3.7.6"
  },
  "notify_time": "5",
  "varInspector": {
   "cols": {
    "lenName": 16,
    "lenType": 16,
    "lenVar": 40
   },
   "kernels_config": {
    "python": {
     "delete_cmd_postfix": "",
     "delete_cmd_prefix": "del ",
     "library": "var_list.py",
     "varRefreshCmd": "print(var_dic_list())"
    },
    "r": {
     "delete_cmd_postfix": ") ",
     "delete_cmd_prefix": "rm(",
     "library": "var_list.r",
     "varRefreshCmd": "cat(var_dic_list()) "
    }
   },
   "types_to_exclude": [
    "module",
    "function",
    "builtin_function_or_method",
    "instance",
    "_Feature"
   ],
   "window_display": false
  }
 },
 "nbformat": 4,
 "nbformat_minor": 4
}
